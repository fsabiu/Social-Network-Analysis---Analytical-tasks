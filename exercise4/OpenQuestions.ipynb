{
  "nbformat": 4,
  "nbformat_minor": 0,
  "metadata": {
    "colab": {
      "name": "OpenQuestions.ipynb",
      "provenance": [],
      "toc_visible": true
    },
    "kernelspec": {
      "name": "python3",
      "display_name": "Python 3"
    }
  },
  "cells": [
    {
      "cell_type": "markdown",
      "metadata": {
        "id": "ZZB8G3nWlSl5",
        "colab_type": "text"
      },
      "source": [
        "# Open Questions"
      ]
    },
    {
      "cell_type": "code",
      "metadata": {
        "id": "bZvYZAMkjXgE",
        "colab_type": "code",
        "colab": {
          "base_uri": "https://localhost:8080/",
          "height": 1000
        },
        "outputId": "df5804a1-fcf5-4446-b457-f673c9aac026"
      },
      "source": [
        "!pip install python-igraph\n",
        "!apt-get install libcairo2-dev libjpeg-dev libgif-dev\n",
        "!pip install cairocffi\n",
        "!pip uninstall pycairo\n",
        "!pip install cdlib"
      ],
      "execution_count": null,
      "outputs": [
        {
          "output_type": "stream",
          "text": [
            "Collecting python-igraph\n",
            "\u001b[?25l  Downloading https://files.pythonhosted.org/packages/8b/74/24a1afbf3abaf1d5f393b668192888d04091d1a6d106319661cd4af05406/python_igraph-0.8.2-cp36-cp36m-manylinux2010_x86_64.whl (3.2MB)\n",
            "\u001b[K     |████████████████████████████████| 3.2MB 8.5MB/s \n",
            "\u001b[?25hCollecting texttable>=1.6.2\n",
            "  Downloading https://files.pythonhosted.org/packages/ec/b1/8a1c659ce288bf771d5b1c7cae318ada466f73bd0e16df8d86f27a2a3ee7/texttable-1.6.2-py2.py3-none-any.whl\n",
            "Installing collected packages: texttable, python-igraph\n",
            "Successfully installed python-igraph-0.8.2 texttable-1.6.2\n",
            "Reading package lists... Done\n",
            "Building dependency tree       \n",
            "Reading state information... Done\n",
            "libjpeg-dev is already the newest version (8c-2ubuntu8).\n",
            "libjpeg-dev set to manually installed.\n",
            "The following package was automatically installed and is no longer required:\n",
            "  libnvidia-common-440\n",
            "Use 'apt autoremove' to remove it.\n",
            "The following additional packages will be installed:\n",
            "  libcairo-script-interpreter2 libpixman-1-dev libxcb-shm0-dev\n",
            "Suggested packages:\n",
            "  libcairo2-doc\n",
            "The following NEW packages will be installed:\n",
            "  libcairo-script-interpreter2 libcairo2-dev libgif-dev libpixman-1-dev\n",
            "  libxcb-shm0-dev\n",
            "0 upgraded, 5 newly installed, 0 to remove and 35 not upgraded.\n",
            "Need to get 951 kB of archives.\n",
            "After this operation, 4,084 kB of additional disk space will be used.\n",
            "Get:1 http://archive.ubuntu.com/ubuntu bionic-updates/main amd64 libcairo-script-interpreter2 amd64 1.15.10-2ubuntu0.1 [53.5 kB]\n",
            "Get:2 http://archive.ubuntu.com/ubuntu bionic/main amd64 libpixman-1-dev amd64 0.34.0-2 [244 kB]\n",
            "Get:3 http://archive.ubuntu.com/ubuntu bionic-updates/main amd64 libxcb-shm0-dev amd64 1.13-2~ubuntu18.04 [6,684 B]\n",
            "Get:4 http://archive.ubuntu.com/ubuntu bionic-updates/main amd64 libcairo2-dev amd64 1.15.10-2ubuntu0.1 [626 kB]\n",
            "Get:5 http://archive.ubuntu.com/ubuntu bionic-updates/main amd64 libgif-dev amd64 5.1.4-2ubuntu0.1 [20.6 kB]\n",
            "Fetched 951 kB in 0s (8,005 kB/s)\n",
            "Selecting previously unselected package libcairo-script-interpreter2:amd64.\n",
            "(Reading database ... 144465 files and directories currently installed.)\n",
            "Preparing to unpack .../libcairo-script-interpreter2_1.15.10-2ubuntu0.1_amd64.deb ...\n",
            "Unpacking libcairo-script-interpreter2:amd64 (1.15.10-2ubuntu0.1) ...\n",
            "Selecting previously unselected package libpixman-1-dev:amd64.\n",
            "Preparing to unpack .../libpixman-1-dev_0.34.0-2_amd64.deb ...\n",
            "Unpacking libpixman-1-dev:amd64 (0.34.0-2) ...\n",
            "Selecting previously unselected package libxcb-shm0-dev:amd64.\n",
            "Preparing to unpack .../libxcb-shm0-dev_1.13-2~ubuntu18.04_amd64.deb ...\n",
            "Unpacking libxcb-shm0-dev:amd64 (1.13-2~ubuntu18.04) ...\n",
            "Selecting previously unselected package libcairo2-dev:amd64.\n",
            "Preparing to unpack .../libcairo2-dev_1.15.10-2ubuntu0.1_amd64.deb ...\n",
            "Unpacking libcairo2-dev:amd64 (1.15.10-2ubuntu0.1) ...\n",
            "Selecting previously unselected package libgif-dev.\n",
            "Preparing to unpack .../libgif-dev_5.1.4-2ubuntu0.1_amd64.deb ...\n",
            "Unpacking libgif-dev (5.1.4-2ubuntu0.1) ...\n",
            "Setting up libcairo-script-interpreter2:amd64 (1.15.10-2ubuntu0.1) ...\n",
            "Setting up libgif-dev (5.1.4-2ubuntu0.1) ...\n",
            "Setting up libxcb-shm0-dev:amd64 (1.13-2~ubuntu18.04) ...\n",
            "Setting up libpixman-1-dev:amd64 (0.34.0-2) ...\n",
            "Setting up libcairo2-dev:amd64 (1.15.10-2ubuntu0.1) ...\n",
            "Processing triggers for libc-bin (2.27-3ubuntu1) ...\n",
            "/sbin/ldconfig.real: /usr/local/lib/python3.6/dist-packages/ideep4py/lib/libmkldnn.so.0 is not a symbolic link\n",
            "\n",
            "Collecting cairocffi\n",
            "\u001b[?25l  Downloading https://files.pythonhosted.org/packages/f7/99/b3a2c6393563ccbe081ffcceb359ec27a6227792c5169604c1bd8128031a/cairocffi-1.1.0.tar.gz (68kB)\n",
            "\u001b[K     |████████████████████████████████| 71kB 4.1MB/s \n",
            "\u001b[?25hRequirement already satisfied: cffi>=1.1.0 in /usr/local/lib/python3.6/dist-packages (from cairocffi) (1.14.0)\n",
            "Requirement already satisfied: setuptools>=39.2.0 in /usr/local/lib/python3.6/dist-packages (from cairocffi) (49.1.0)\n",
            "Requirement already satisfied: pycparser in /usr/local/lib/python3.6/dist-packages (from cffi>=1.1.0->cairocffi) (2.20)\n",
            "Building wheels for collected packages: cairocffi\n",
            "  Building wheel for cairocffi (setup.py) ... \u001b[?25l\u001b[?25hdone\n",
            "  Created wheel for cairocffi: filename=cairocffi-1.1.0-cp36-none-any.whl size=88590 sha256=ff405c0f01720b157858abe639ab7b3cbb830287e4239df89415d7da55a42f95\n",
            "  Stored in directory: /root/.cache/pip/wheels/11/5e/47/167d9dfd5fa5850dd0cd3db80afe6db46e620edec3419dce5a\n",
            "Successfully built cairocffi\n",
            "Installing collected packages: cairocffi\n",
            "Successfully installed cairocffi-1.1.0\n",
            "\u001b[33mWARNING: Skipping pycairo as it is not installed.\u001b[0m\n",
            "Collecting cdlib\n",
            "\u001b[?25l  Downloading https://files.pythonhosted.org/packages/3c/e1/26f67e1bff8b1e70cdb47d811448f22402aa399961aef35d2a1fb4ff50cb/cdlib-0.1.8-py3-none-any.whl (113kB)\n",
            "\u001b[K     |████████████████████████████████| 122kB 7.8MB/s \n",
            "\u001b[?25hRequirement already satisfied: scikit-learn>=0.21.* in /usr/local/lib/python3.6/dist-packages (from cdlib) (0.22.2.post1)\n",
            "Collecting pulp==1.6.*\n",
            "\u001b[?25l  Downloading https://files.pythonhosted.org/packages/2d/33/3ae6d9d2ac8c7068937af6372fd8828ac605e62a8b17106fe57110930d38/PuLP-1.6.10.zip (13.6MB)\n",
            "\u001b[K     |████████████████████████████████| 13.6MB 308kB/s \n",
            "\u001b[?25hRequirement already satisfied: scipy>=1.3.* in /usr/local/lib/python3.6/dist-packages (from cdlib) (1.4.1)\n",
            "Collecting mock==3.0.*\n",
            "  Downloading https://files.pythonhosted.org/packages/05/d2/f94e68be6b17f46d2c353564da56e6fb89ef09faeeff3313a046cb810ca9/mock-3.0.5-py2.py3-none-any.whl\n",
            "Requirement already satisfied: seaborn>=0.9.* in /usr/local/lib/python3.6/dist-packages (from cdlib) (0.10.1)\n",
            "Requirement already satisfied: tqdm>=4.20.* in /usr/local/lib/python3.6/dist-packages (from cdlib) (4.41.1)\n",
            "Collecting omega-index-py3\n",
            "  Downloading https://files.pythonhosted.org/packages/fb/57/ab48f801af9ef0ce273fe1969df825a99f52a73ff18767c7084f60471028/omega_index_py3-0.3-py3-none-any.whl\n",
            "Collecting karateclub\n",
            "  Downloading https://files.pythonhosted.org/packages/63/4f/32688d45579538a1d4f46bb91079b2682ea24a9c49143ef01b4190f73148/karateclub-1.0.9.tar.gz\n",
            "Collecting python-louvain==0.13\n",
            "  Downloading https://files.pythonhosted.org/packages/96/b2/c74bb9023c8d4bf94f5049e3d705b3064c6f180a38d772055d20ba5a8d06/python-louvain-0.13.tar.gz\n",
            "Collecting networkx<2.4,>=2.2\n",
            "\u001b[?25l  Downloading https://files.pythonhosted.org/packages/85/08/f20aef11d4c343b557e5de6b9548761811eb16e438cee3d32b1c66c8566b/networkx-2.3.zip (1.7MB)\n",
            "\u001b[K     |████████████████████████████████| 1.8MB 43.9MB/s \n",
            "\u001b[?25hCollecting nf1\n",
            "  Downloading https://files.pythonhosted.org/packages/4c/41/18e9d6c802db1084c157a0d6c5b38be5878f925e1cf53d7eb03edc7ec6ad/nf1-0.0.3-py3-none-any.whl\n",
            "Requirement already satisfied: future>=0.16.* in /usr/local/lib/python3.6/dist-packages (from cdlib) (0.16.0)\n",
            "Collecting demon>=2.0.*\n",
            "  Downloading https://files.pythonhosted.org/packages/87/21/e84965594c51885a2f3b5f6ff224ba58f932cc66241489e0d763b9ac531b/demon-2.0.5-py3-none-any.whl\n",
            "Collecting bimlpa\n",
            "  Downloading https://files.pythonhosted.org/packages/11/8c/7d409d7e7bcbd261c7f19737feaa1ef66514512c7f7d6b9a776d7aac7c33/bimlpa-0.1.2-py3-none-any.whl\n",
            "Collecting sphinx-rtd-theme==0.4.*\n",
            "\u001b[?25l  Downloading https://files.pythonhosted.org/packages/60/b4/4df37087a1d36755e3a3bfd2a30263f358d2dea21938240fa02313d45f51/sphinx_rtd_theme-0.4.3-py2.py3-none-any.whl (6.4MB)\n",
            "\u001b[K     |████████████████████████████████| 6.4MB 42.6MB/s \n",
            "\u001b[?25hCollecting pquality==0.0.7\n",
            "  Downloading https://files.pythonhosted.org/packages/12/f8/5357fd9dfe0f105fea5439fcb01a21b8550a71d0e0b702b2bc0372c953c4/pquality-0.0.7-py3-none-any.whl\n",
            "Collecting sphinx==1.7.5\n",
            "\u001b[?25l  Downloading https://files.pythonhosted.org/packages/1b/9f/98d67201c5a6e1aececed03a44a819d0e32adba81414081e303cfaf8c54c/Sphinx-1.7.5-py2.py3-none-any.whl (1.9MB)\n",
            "\u001b[K     |████████████████████████████████| 1.9MB 39.5MB/s \n",
            "\u001b[?25hRequirement already satisfied: pandas>=0.24 in /usr/local/lib/python3.6/dist-packages (from cdlib) (1.0.5)\n",
            "Collecting eva-lcd\n",
            "  Downloading https://files.pythonhosted.org/packages/e2/a4/f1f79a5c964831e2d3864e159c433cab5a8f420017e3492d615415c4ac24/eva_lcd-0.1.0-py3-none-any.whl\n",
            "Requirement already satisfied: matplotlib>=3.0.* in /usr/local/lib/python3.6/dist-packages (from cdlib) (3.2.2)\n",
            "Requirement already satisfied: numpy>=1.15.* in /usr/local/lib/python3.6/dist-packages (from cdlib) (1.18.5)\n",
            "Requirement already satisfied: joblib>=0.11 in /usr/local/lib/python3.6/dist-packages (from scikit-learn>=0.21.*->cdlib) (0.16.0)\n",
            "Requirement already satisfied: pyparsing>=2.0.1 in /usr/local/lib/python3.6/dist-packages (from pulp==1.6.*->cdlib) (2.4.7)\n",
            "Requirement already satisfied: six in /usr/local/lib/python3.6/dist-packages (from mock==3.0.*->cdlib) (1.12.0)\n",
            "Requirement already satisfied: sklearn in /usr/local/lib/python3.6/dist-packages (from karateclub->cdlib) (0.0)\n",
            "Collecting pygsp\n",
            "\u001b[?25l  Downloading https://files.pythonhosted.org/packages/d4/89/2f4aa73cccf12bec5179ac5d52a68b508120c838b7e5d456f5ea0c8beade/PyGSP-0.5.1-py2.py3-none-any.whl (1.8MB)\n",
            "\u001b[K     |████████████████████████████████| 1.8MB 42.3MB/s \n",
            "\u001b[?25hRequirement already satisfied: gensim in /usr/local/lib/python3.6/dist-packages (from karateclub->cdlib) (3.6.0)\n",
            "Requirement already satisfied: decorator>=4.3.0 in /usr/local/lib/python3.6/dist-packages (from networkx<2.4,>=2.2->cdlib) (4.4.2)\n",
            "Requirement already satisfied: setuptools in /usr/local/lib/python3.6/dist-packages (from sphinx==1.7.5->cdlib) (49.1.0)\n",
            "Requirement already satisfied: imagesize in /usr/local/lib/python3.6/dist-packages (from sphinx==1.7.5->cdlib) (1.2.0)\n",
            "Requirement already satisfied: babel!=2.0,>=1.3 in /usr/local/lib/python3.6/dist-packages (from sphinx==1.7.5->cdlib) (2.8.0)\n",
            "Requirement already satisfied: Pygments>=2.0 in /usr/local/lib/python3.6/dist-packages (from sphinx==1.7.5->cdlib) (2.1.3)\n",
            "Requirement already satisfied: requests>=2.0.0 in /usr/local/lib/python3.6/dist-packages (from sphinx==1.7.5->cdlib) (2.23.0)\n",
            "Requirement already satisfied: Jinja2>=2.3 in /usr/local/lib/python3.6/dist-packages (from sphinx==1.7.5->cdlib) (2.11.2)\n",
            "Requirement already satisfied: alabaster<0.8,>=0.7 in /usr/local/lib/python3.6/dist-packages (from sphinx==1.7.5->cdlib) (0.7.12)\n",
            "Requirement already satisfied: sphinxcontrib-websupport in /usr/local/lib/python3.6/dist-packages (from sphinx==1.7.5->cdlib) (1.2.3)\n",
            "Requirement already satisfied: docutils>=0.11 in /usr/local/lib/python3.6/dist-packages (from sphinx==1.7.5->cdlib) (0.15.2)\n",
            "Requirement already satisfied: snowballstemmer>=1.1 in /usr/local/lib/python3.6/dist-packages (from sphinx==1.7.5->cdlib) (2.0.0)\n",
            "Requirement already satisfied: packaging in /usr/local/lib/python3.6/dist-packages (from sphinx==1.7.5->cdlib) (20.4)\n",
            "Requirement already satisfied: pytz>=2017.2 in /usr/local/lib/python3.6/dist-packages (from pandas>=0.24->cdlib) (2018.9)\n",
            "Requirement already satisfied: python-dateutil>=2.6.1 in /usr/local/lib/python3.6/dist-packages (from pandas>=0.24->cdlib) (2.8.1)\n",
            "Requirement already satisfied: kiwisolver>=1.0.1 in /usr/local/lib/python3.6/dist-packages (from matplotlib>=3.0.*->cdlib) (1.2.0)\n",
            "Requirement already satisfied: cycler>=0.10 in /usr/local/lib/python3.6/dist-packages (from matplotlib>=3.0.*->cdlib) (0.10.0)\n",
            "Requirement already satisfied: smart-open>=1.2.1 in /usr/local/lib/python3.6/dist-packages (from gensim->karateclub->cdlib) (2.1.0)\n",
            "Requirement already satisfied: urllib3!=1.25.0,!=1.25.1,<1.26,>=1.21.1 in /usr/local/lib/python3.6/dist-packages (from requests>=2.0.0->sphinx==1.7.5->cdlib) (1.24.3)\n",
            "Requirement already satisfied: idna<3,>=2.5 in /usr/local/lib/python3.6/dist-packages (from requests>=2.0.0->sphinx==1.7.5->cdlib) (2.10)\n",
            "Requirement already satisfied: certifi>=2017.4.17 in /usr/local/lib/python3.6/dist-packages (from requests>=2.0.0->sphinx==1.7.5->cdlib) (2020.6.20)\n",
            "Requirement already satisfied: chardet<4,>=3.0.2 in /usr/local/lib/python3.6/dist-packages (from requests>=2.0.0->sphinx==1.7.5->cdlib) (3.0.4)\n",
            "Requirement already satisfied: MarkupSafe>=0.23 in /usr/local/lib/python3.6/dist-packages (from Jinja2>=2.3->sphinx==1.7.5->cdlib) (1.1.1)\n",
            "Requirement already satisfied: boto in /usr/local/lib/python3.6/dist-packages (from smart-open>=1.2.1->gensim->karateclub->cdlib) (2.49.0)\n",
            "Requirement already satisfied: boto3 in /usr/local/lib/python3.6/dist-packages (from smart-open>=1.2.1->gensim->karateclub->cdlib) (1.14.20)\n",
            "Requirement already satisfied: s3transfer<0.4.0,>=0.3.0 in /usr/local/lib/python3.6/dist-packages (from boto3->smart-open>=1.2.1->gensim->karateclub->cdlib) (0.3.3)\n",
            "Requirement already satisfied: jmespath<1.0.0,>=0.7.1 in /usr/local/lib/python3.6/dist-packages (from boto3->smart-open>=1.2.1->gensim->karateclub->cdlib) (0.10.0)\n",
            "Requirement already satisfied: botocore<1.18.0,>=1.17.20 in /usr/local/lib/python3.6/dist-packages (from boto3->smart-open>=1.2.1->gensim->karateclub->cdlib) (1.17.20)\n",
            "Building wheels for collected packages: pulp, karateclub, python-louvain, networkx\n",
            "  Building wheel for pulp (setup.py) ... \u001b[?25l\u001b[?25hdone\n",
            "  Created wheel for pulp: filename=PuLP-1.6.10-cp36-none-any.whl size=12269903 sha256=5c448a2b858cc818c1705fb6d50d2bede5602b9f825e69c20783bc03f29455ab\n",
            "  Stored in directory: /root/.cache/pip/wheels/5e/76/77/e28b22219e46e3b4b033f02e8b36b2770ae545bdcf60c2b224\n",
            "  Building wheel for karateclub (setup.py) ... \u001b[?25l\u001b[?25hdone\n",
            "  Created wheel for karateclub: filename=karateclub-1.0.9-cp36-none-any.whl size=69929 sha256=b43184c46aa4ae79f56715af4abb5897f288e1cf4bb42d8f95866bb4c8b8bc85\n",
            "  Stored in directory: /root/.cache/pip/wheels/06/6b/20/00ab8053202aac9d8a651f674a1382dedf7994b6ff10a7c8bc\n",
            "  Building wheel for python-louvain (setup.py) ... \u001b[?25l\u001b[?25hdone\n",
            "  Created wheel for python-louvain: filename=python_louvain-0.13-cp36-none-any.whl size=9223 sha256=8c487781d1ab958e535910e1c4f9e85dd46d0cb68a3553c12dd0d89d935ef051\n",
            "  Stored in directory: /root/.cache/pip/wheels/f9/74/a9/14f051b00dddd46d71529db15507796da13a43ee2c0bc39def\n",
            "  Building wheel for networkx (setup.py) ... \u001b[?25l\u001b[?25hdone\n",
            "  Created wheel for networkx: filename=networkx-2.3-py2.py3-none-any.whl size=1556408 sha256=ee4aead145a524cf293d040478c833a88d8ae117aa3fe21542f5ce90677d6492\n",
            "  Stored in directory: /root/.cache/pip/wheels/de/63/64/3699be2a9d0ccdb37c7f16329acf3863fd76eda58c39c737af\n",
            "Successfully built pulp karateclub python-louvain networkx\n",
            "\u001b[31mERROR: datascience 0.10.6 has requirement folium==0.2.1, but you'll have folium 0.8.3 which is incompatible.\u001b[0m\n",
            "\u001b[31mERROR: albumentations 0.1.12 has requirement imgaug<0.2.7,>=0.2.5, but you'll have imgaug 0.2.9 which is incompatible.\u001b[0m\n",
            "Installing collected packages: pulp, mock, omega-index-py3, networkx, python-louvain, pygsp, karateclub, nf1, demon, bimlpa, sphinx, sphinx-rtd-theme, pquality, eva-lcd, cdlib\n",
            "  Found existing installation: networkx 2.4\n",
            "    Uninstalling networkx-2.4:\n",
            "      Successfully uninstalled networkx-2.4\n",
            "  Found existing installation: python-louvain 0.14\n",
            "    Uninstalling python-louvain-0.14:\n",
            "      Successfully uninstalled python-louvain-0.14\n",
            "  Found existing installation: Sphinx 1.8.5\n",
            "    Uninstalling Sphinx-1.8.5:\n",
            "      Successfully uninstalled Sphinx-1.8.5\n",
            "Successfully installed bimlpa-0.1.2 cdlib-0.1.8 demon-2.0.5 eva-lcd-0.1.0 karateclub-1.0.9 mock-3.0.5 networkx-2.3 nf1-0.0.3 omega-index-py3-0.3 pquality-0.0.7 pulp-1.6.10 pygsp-0.5.1 python-louvain-0.13 sphinx-1.7.5 sphinx-rtd-theme-0.4.3\n"
          ],
          "name": "stdout"
        }
      ]
    },
    {
      "cell_type": "code",
      "metadata": {
        "id": "kKcjI4q9kUXO",
        "colab_type": "code",
        "colab": {}
      },
      "source": [
        "import pickle\n",
        "import math\n",
        "import igraph\n",
        "import pandas as pd\n",
        "import numpy as np\n",
        "from igraph import *\n",
        "import matplotlib.pyplot as plt\n",
        "import time\n",
        "import cairocffi as cairo\n",
        "from google.colab import files\n",
        "from IPython.display import SVG, display, Image\n",
        "import matplotlib.pyplot as plt\n",
        "from pandas.plotting import scatter_matrix"
      ],
      "execution_count": null,
      "outputs": []
    },
    {
      "cell_type": "code",
      "metadata": {
        "id": "rLctWw89kW25",
        "colab_type": "code",
        "colab": {}
      },
      "source": [
        "def load_obj(name):\n",
        "    with open('/content/drive/My Drive/NetworkScience/AcademicGraph/data/obj/' + name + '.pkl', 'rb') as f:\n",
        "        return pickle.load(f)\n",
        "\n",
        "def save_obj(obj, name):\n",
        "    with open('/content/drive/My Drive/NetworkScience/AcademicGraph/data/obj/'+ name + '.pkl', 'wb') as f:\n",
        "        pickle.dump(obj, f, pickle.HIGHEST_PROTOCOL)\n",
        "\n",
        "#biggestSubG = load_obj(\"biggestSubG\")"
      ],
      "execution_count": null,
      "outputs": []
    },
    {
      "cell_type": "code",
      "metadata": {
        "id": "FwxoVZ_rf7Kw",
        "colab_type": "code",
        "colab": {}
      },
      "source": [
        "g = load_obj(\"graph\")\n",
        "cits = load_obj(\"n_citations\")\n",
        "g.vs['n_citations'] = cits"
      ],
      "execution_count": null,
      "outputs": []
    },
    {
      "cell_type": "code",
      "metadata": {
        "id": "_c4QqDwrcJp-",
        "colab_type": "code",
        "colab": {
          "base_uri": "https://localhost:8080/",
          "height": 34
        },
        "outputId": "952f6162-1457-4f7e-f63e-ff9ddfe33778"
      },
      "source": [
        "type(cits[0]) == int"
      ],
      "execution_count": null,
      "outputs": [
        {
          "output_type": "execute_result",
          "data": {
            "text/plain": [
              "True"
            ]
          },
          "metadata": {
            "tags": []
          },
          "execution_count": 5
        }
      ]
    },
    {
      "cell_type": "markdown",
      "metadata": {
        "id": "GIOrGfGxvmY0",
        "colab_type": "text"
      },
      "source": [
        "### Preprocessing"
      ]
    },
    {
      "cell_type": "code",
      "metadata": {
        "id": "Z9Q683BjaglK",
        "colab_type": "code",
        "colab": {
          "base_uri": "https://localhost:8080/",
          "height": 34
        },
        "outputId": "0cc79547-87e4-44ba-aa4a-fb3054efd697"
      },
      "source": [
        "num = 0\n",
        "new_cits = []\n",
        "for cit in cits:\n",
        "  if(type(cit) != int):\n",
        "    new_cits.append(0)\n",
        "num"
      ],
      "execution_count": null,
      "outputs": [
        {
          "output_type": "execute_result",
          "data": {
            "text/plain": [
              "0"
            ]
          },
          "metadata": {
            "tags": []
          },
          "execution_count": 6
        }
      ]
    },
    {
      "cell_type": "code",
      "metadata": {
        "id": "Sg325YF4aYDC",
        "colab_type": "code",
        "colab": {}
      },
      "source": [
        "components = g.clusters(mode=\"weak\")\n",
        "biggestSubG = components.subgraph(22) # 22 = Bigger connected component index in components list"
      ],
      "execution_count": null,
      "outputs": []
    },
    {
      "cell_type": "code",
      "metadata": {
        "id": "65u5MjNxs71K",
        "colab_type": "code",
        "colab": {
          "base_uri": "https://localhost:8080/",
          "height": 34
        },
        "outputId": "941706d9-ff8e-4f9c-900c-c8bbe4a5810e"
      },
      "source": [
        "num = 0\n",
        "\n",
        "for cit in biggestSubG.vs['n_citations']:\n",
        "  if(type(cit) != int):\n",
        "    num += 1\n",
        "num"
      ],
      "execution_count": null,
      "outputs": [
        {
          "output_type": "execute_result",
          "data": {
            "text/plain": [
              "9398"
            ]
          },
          "metadata": {
            "tags": []
          },
          "execution_count": 8
        }
      ]
    },
    {
      "cell_type": "code",
      "metadata": {
        "id": "-ITHG2-ktfW7",
        "colab_type": "code",
        "colab": {
          "base_uri": "https://localhost:8080/",
          "height": 34
        },
        "outputId": "2360799e-a789-47b7-be26-cfeb1d624cb2"
      },
      "source": [
        "num = 0\n",
        "\n",
        "for cit in biggestSubG.vs[\"h_index\"]:\n",
        "  if(type(cit) != int):\n",
        "    num += 1\n",
        "num"
      ],
      "execution_count": null,
      "outputs": [
        {
          "output_type": "execute_result",
          "data": {
            "text/plain": [
              "339"
            ]
          },
          "metadata": {
            "tags": []
          },
          "execution_count": 9
        }
      ]
    },
    {
      "cell_type": "code",
      "metadata": {
        "id": "k8c5E94QtjMT",
        "colab_type": "code",
        "colab": {
          "base_uri": "https://localhost:8080/",
          "height": 34
        },
        "outputId": "41c2b53f-2558-4f7d-bd0c-316d6ed61306"
      },
      "source": [
        "num = 0\n",
        "\n",
        "for cit in biggestSubG.vs[\"n_pubs\"]:\n",
        "  if(type(cit) != int):\n",
        "    num += 1\n",
        "num"
      ],
      "execution_count": null,
      "outputs": [
        {
          "output_type": "execute_result",
          "data": {
            "text/plain": [
              "9398"
            ]
          },
          "metadata": {
            "tags": []
          },
          "execution_count": 10
        }
      ]
    },
    {
      "cell_type": "markdown",
      "metadata": {
        "id": "vNR1JGLPtTeT",
        "colab_type": "text"
      },
      "source": [
        "We have 9398 null values for citations, 339 for h_index and 9398 for n_pubs"
      ]
    },
    {
      "cell_type": "markdown",
      "metadata": {
        "id": "_QDv2qfUueyn",
        "colab_type": "text"
      },
      "source": [
        "Getting indices of non null values"
      ]
    },
    {
      "cell_type": "code",
      "metadata": {
        "id": "fYJA7jmYueE1",
        "colab_type": "code",
        "colab": {}
      },
      "source": [
        "nn = [i for i in range(len(biggestSubG.vs['n_citations'])) if type(biggestSubG.vs['n_citations'][i]) == int]"
      ],
      "execution_count": null,
      "outputs": []
    },
    {
      "cell_type": "code",
      "metadata": {
        "id": "5hdQ-l9Ff-V6",
        "colab_type": "code",
        "colab": {}
      },
      "source": [
        "nnGraph = biggestSubG.subgraph(nn)"
      ],
      "execution_count": null,
      "outputs": []
    },
    {
      "cell_type": "markdown",
      "metadata": {
        "id": "XY19Cc0SvIxN",
        "colab_type": "text"
      },
      "source": [
        "Checking for other null values"
      ]
    },
    {
      "cell_type": "code",
      "metadata": {
        "id": "ZzNJl7OEvKQv",
        "colab_type": "code",
        "colab": {
          "base_uri": "https://localhost:8080/",
          "height": 34
        },
        "outputId": "3da7aeef-a93c-4485-a9ea-b057a1582eb6"
      },
      "source": [
        "num = 0\n",
        "\n",
        "for cit in nnGraph.vs[\"h_index\"]:\n",
        "  if(type(cit) != int):\n",
        "    num += 1\n",
        "num"
      ],
      "execution_count": null,
      "outputs": [
        {
          "output_type": "execute_result",
          "data": {
            "text/plain": [
              "0"
            ]
          },
          "metadata": {
            "tags": []
          },
          "execution_count": 13
        }
      ]
    },
    {
      "cell_type": "code",
      "metadata": {
        "id": "wTT7cs-4vPvk",
        "colab_type": "code",
        "colab": {
          "base_uri": "https://localhost:8080/",
          "height": 34
        },
        "outputId": "b302ab10-dc78-42af-d71f-86ae970337c7"
      },
      "source": [
        "num = 0\n",
        "\n",
        "for cit in nnGraph.vs[\"n_pubs\"]:\n",
        "  if(type(cit) != int):\n",
        "    num += 1\n",
        "num"
      ],
      "execution_count": null,
      "outputs": [
        {
          "output_type": "execute_result",
          "data": {
            "text/plain": [
              "0"
            ]
          },
          "metadata": {
            "tags": []
          },
          "execution_count": 14
        }
      ]
    },
    {
      "cell_type": "markdown",
      "metadata": {
        "id": "Kzy6In0DvTKd",
        "colab_type": "text"
      },
      "source": [
        "We follow with our correlation analysis on nnGraph"
      ]
    },
    {
      "cell_type": "code",
      "metadata": {
        "id": "_G7iCTnIvXj5",
        "colab_type": "code",
        "colab": {
          "base_uri": "https://localhost:8080/",
          "height": 34
        },
        "outputId": "9429e47d-ff84-4729-d175-8a4bd3d95929"
      },
      "source": [
        "len(nnGraph.vs)"
      ],
      "execution_count": null,
      "outputs": [
        {
          "output_type": "execute_result",
          "data": {
            "text/plain": [
              "21800"
            ]
          },
          "metadata": {
            "tags": []
          },
          "execution_count": 15
        }
      ]
    },
    {
      "cell_type": "markdown",
      "metadata": {
        "id": "hFjidYYllYI0",
        "colab_type": "text"
      },
      "source": [
        "## Centrality correlations"
      ]
    },
    {
      "cell_type": "markdown",
      "metadata": {
        "id": "vkCshL7Rmvys",
        "colab_type": "text"
      },
      "source": [
        "Centrality measures"
      ]
    },
    {
      "cell_type": "code",
      "metadata": {
        "id": "HP3g2nXhkyyi",
        "colab_type": "code",
        "colab": {
          "base_uri": "https://localhost:8080/"
        },
        "outputId": "ac9c45f0-4476-4961-8c35-b29b47fdc8f4"
      },
      "source": [
        "betwCentrality = nnGraph.betweenness()\n",
        "closCentrality = nnGraph.closeness()\n",
        "degrCentrality = nnGraph.degree()\n",
        "eigenCentrality = nnGraph.eigenvector_centrality(directed=False, scale=True, weights=None, return_eigenvalue=False)"
      ],
      "execution_count": null,
      "outputs": [
        {
          "output_type": "stream",
          "text": [
            "/usr/local/lib/python3.6/dist-packages/ipykernel_launcher.py:2: RuntimeWarning: closeness centrality is not well-defined for disconnected graphs at /project/vendor/source/igraph/src/centrality.c:2856\n",
            "  \n"
          ],
          "name": "stderr"
        }
      ]
    },
    {
      "cell_type": "code",
      "metadata": {
        "id": "Mm91u2sHX2GR",
        "colab_type": "code",
        "colab": {
          "base_uri": "https://localhost:8080/"
        },
        "outputId": "02921622-885d-4134-d8b3-ae47919ac3cc"
      },
      "source": [
        "len(eigenCentrality)"
      ],
      "execution_count": null,
      "outputs": [
        {
          "output_type": "execute_result",
          "data": {
            "text/plain": [
              "21800"
            ]
          },
          "metadata": {
            "tags": []
          },
          "execution_count": 17
        }
      ]
    },
    {
      "cell_type": "markdown",
      "metadata": {
        "id": "Ur-kzhquWzfO",
        "colab_type": "text"
      },
      "source": [
        "Scaling eigenvector centrality"
      ]
    },
    {
      "cell_type": "code",
      "metadata": {
        "id": "D8IHdinUWzyE",
        "colab_type": "code",
        "colab": {}
      },
      "source": [
        "def scaleEigen(eigenvectors):\n",
        "  logarithmicEigen = [math.log10(el) if el > 0 else 0 for el in eigenvectors]\n",
        "  mi = min(logarithmicEigen)\n",
        "  ma = max(logarithmicEigen)\n",
        "  logarithmicEigen = [el - mi for el in logarithmicEigen]\n",
        "  mi = min(logarithmicEigen)\n",
        "  ma = max(logarithmicEigen)\n",
        "  scaledEigen = [el*(float(100)/float(ma)) for el in logarithmicEigen]\n",
        "  return scaledEigen"
      ],
      "execution_count": null,
      "outputs": []
    },
    {
      "cell_type": "code",
      "metadata": {
        "id": "TyVOQFurxKGx",
        "colab_type": "code",
        "colab": {
          "base_uri": "https://localhost:8080/"
        },
        "outputId": "0844a0d2-c863-4003-ce25-fa37090ba077"
      },
      "source": [
        "closCentrality = [i*(100/max(closCentrality)) for i in closCentrality]\n",
        "print(max(closCentrality))\n",
        "print(min(closCentrality))"
      ],
      "execution_count": null,
      "outputs": [
        {
          "output_type": "stream",
          "text": [
            "100.0\n",
            "19.039257334841132\n"
          ],
          "name": "stdout"
        }
      ]
    },
    {
      "cell_type": "code",
      "metadata": {
        "id": "CeW4ZkWl1J5R",
        "colab_type": "code",
        "colab": {}
      },
      "source": [
        "def scaleDegree(degrees):\n",
        "  logarithmicDegrees = [math.log10(el) if el > 0 else 0 for el in degrees]\n",
        "  scaledDegrees = [el*(float(100)/float(max(logarithmicDegrees))) for el in logarithmicDegrees]\n",
        "  return scaledDegrees"
      ],
      "execution_count": null,
      "outputs": []
    },
    {
      "cell_type": "code",
      "metadata": {
        "id": "i_hgejnJ2LMi",
        "colab_type": "code",
        "colab": {}
      },
      "source": [
        "degrCentrality = scaleDegree(degrCentrality)"
      ],
      "execution_count": null,
      "outputs": []
    },
    {
      "cell_type": "code",
      "metadata": {
        "id": "HOEOrZdhuViB",
        "colab_type": "code",
        "colab": {
          "base_uri": "https://localhost:8080/"
        },
        "outputId": "de1c2414-6ad9-4327-a86e-86298f7880d1"
      },
      "source": [
        "print(max(degrCentrality))\n",
        "print(min(degrCentrality))"
      ],
      "execution_count": null,
      "outputs": [
        {
          "output_type": "stream",
          "text": [
            "100.0\n",
            "0.0\n"
          ],
          "name": "stdout"
        }
      ]
    },
    {
      "cell_type": "code",
      "metadata": {
        "id": "whA7mHW2W2ht",
        "colab_type": "code",
        "colab": {
          "base_uri": "https://localhost:8080/"
        },
        "outputId": "64ae8aee-2129-4b75-f94f-1e2f6596ef08"
      },
      "source": [
        "eigenCentrality = scaleEigen(eigenCentrality)\n",
        "print(max(eigenCentrality))\n",
        "print(min(eigenCentrality))"
      ],
      "execution_count": null,
      "outputs": [
        {
          "output_type": "stream",
          "text": [
            "100.0\n",
            "0.0\n"
          ],
          "name": "stdout"
        }
      ]
    },
    {
      "cell_type": "code",
      "metadata": {
        "id": "TjyPEMakXEDf",
        "colab_type": "code",
        "colab": {
          "base_uri": "https://localhost:8080/"
        },
        "outputId": "e762552c-6965-4766-c692-515708283cec"
      },
      "source": [
        "mean(eigenCentrality)"
      ],
      "execution_count": null,
      "outputs": [
        {
          "output_type": "execute_result",
          "data": {
            "text/plain": [
              "82.76305213842852"
            ]
          },
          "metadata": {
            "tags": []
          },
          "execution_count": 24
        }
      ]
    },
    {
      "cell_type": "markdown",
      "metadata": {
        "id": "_JQ1j8V0Pnkv",
        "colab_type": "text"
      },
      "source": [
        "Saving centrality measures"
      ]
    },
    {
      "cell_type": "code",
      "metadata": {
        "id": "kwcDxrRxPcQB",
        "colab_type": "code",
        "colab": {}
      },
      "source": [
        "save_obj(betwCentrality, \"nnGbetwCentrality\")\n",
        "save_obj(closCentrality, \"nnGclosCentrality\")\n",
        "save_obj(degrCentrality, \"nnGdegrCentrality\")\n",
        "save_obj(eigenCentrality, \"nnGeigenCentrality\")"
      ],
      "execution_count": null,
      "outputs": []
    },
    {
      "cell_type": "markdown",
      "metadata": {
        "id": "urtqJgJyPr5D",
        "colab_type": "text"
      },
      "source": [
        "Reading centrality measures"
      ]
    },
    {
      "cell_type": "code",
      "metadata": {
        "id": "ITwSr95oPtjX",
        "colab_type": "code",
        "colab": {}
      },
      "source": [
        "betwCentrality = load_obj(\"nnGbetwCentrality\")\n",
        "closCentrality = load_obj(\"nnGclosCentrality\")\n",
        "degrCentrality = load_obj(\"nnGdegrCentrality\")\n",
        "eigenCentrality = load_obj(\"nnGeigenCentrality\")"
      ],
      "execution_count": null,
      "outputs": []
    },
    {
      "cell_type": "code",
      "metadata": {
        "id": "ZRZdiejwpFZs",
        "colab_type": "code",
        "colab": {}
      },
      "source": [
        ""
      ],
      "execution_count": null,
      "outputs": []
    },
    {
      "cell_type": "markdown",
      "metadata": {
        "id": "6X8OZmfzl_3c",
        "colab_type": "text"
      },
      "source": [
        "Nodes measures"
      ]
    },
    {
      "cell_type": "code",
      "metadata": {
        "id": "136OdMd3lyzR",
        "colab_type": "code",
        "colab": {}
      },
      "source": [
        "h_indices = nnGraph.vs[\"h_index\"]\n",
        "pubs = nnGraph.vs[\"n_pubs\"]\n",
        "cits = nnGraph.vs[\"n_citations\"]"
      ],
      "execution_count": null,
      "outputs": []
    },
    {
      "cell_type": "markdown",
      "metadata": {
        "id": "V-rT49xbZvB3",
        "colab_type": "text"
      },
      "source": [
        "Building dataframe"
      ]
    },
    {
      "cell_type": "code",
      "metadata": {
        "id": "C7thTG6MXR02",
        "colab_type": "code",
        "colab": {
          "base_uri": "https://localhost:8080/"
        },
        "outputId": "97365345-6c4b-460c-9010-c62e3d9f486c"
      },
      "source": [
        "max(eigenCentrality)"
      ],
      "execution_count": null,
      "outputs": [
        {
          "output_type": "execute_result",
          "data": {
            "text/plain": [
              "100.0"
            ]
          },
          "metadata": {
            "tags": []
          },
          "execution_count": 28
        }
      ]
    },
    {
      "cell_type": "code",
      "metadata": {
        "id": "1l9RmUkXPU-E",
        "colab_type": "code",
        "colab": {}
      },
      "source": [
        "corr_d = {\n",
        "    \"betwCentrality\": betwCentrality, \n",
        "    \"closCentrality\": closCentrality, \n",
        "    \"degrCentrality\": degrCentrality, \n",
        "    \"eigenCentrality\": eigenCentrality, \n",
        "    \"h_indices\": h_indices,\n",
        "    \"pubs\": pubs, \n",
        "    \"cits\": cits\n",
        "}\n",
        "\n",
        "corr_df = pd.DataFrame(corr_d)"
      ],
      "execution_count": null,
      "outputs": []
    },
    {
      "cell_type": "code",
      "metadata": {
        "id": "WAFIII2Pe6q1",
        "colab_type": "code",
        "colab": {
          "base_uri": "https://localhost:8080/"
        },
        "outputId": "e435dc9d-d5da-40c7-ea16-436294dea077"
      },
      "source": [
        "corr_df.head()"
      ],
      "execution_count": null,
      "outputs": [
        {
          "output_type": "execute_result",
          "data": {
            "text/html": [
              "<div>\n",
              "<style scoped>\n",
              "    .dataframe tbody tr th:only-of-type {\n",
              "        vertical-align: middle;\n",
              "    }\n",
              "\n",
              "    .dataframe tbody tr th {\n",
              "        vertical-align: top;\n",
              "    }\n",
              "\n",
              "    .dataframe thead th {\n",
              "        text-align: right;\n",
              "    }\n",
              "</style>\n",
              "<table border=\"1\" class=\"dataframe\">\n",
              "  <thead>\n",
              "    <tr style=\"text-align: right;\">\n",
              "      <th></th>\n",
              "      <th>betwCentrality</th>\n",
              "      <th>closCentrality</th>\n",
              "      <th>degrCentrality</th>\n",
              "      <th>eigenCentrality</th>\n",
              "      <th>h_indices</th>\n",
              "      <th>pubs</th>\n",
              "      <th>cits</th>\n",
              "    </tr>\n",
              "  </thead>\n",
              "  <tbody>\n",
              "    <tr>\n",
              "      <th>0</th>\n",
              "      <td>2.236758e+06</td>\n",
              "      <td>99.938727</td>\n",
              "      <td>35.230696</td>\n",
              "      <td>100.0</td>\n",
              "      <td>155</td>\n",
              "      <td>1074</td>\n",
              "      <td>102385</td>\n",
              "    </tr>\n",
              "    <tr>\n",
              "      <th>1</th>\n",
              "      <td>1.765700e+04</td>\n",
              "      <td>99.900311</td>\n",
              "      <td>9.017579</td>\n",
              "      <td>100.0</td>\n",
              "      <td>31</td>\n",
              "      <td>304</td>\n",
              "      <td>3389</td>\n",
              "    </tr>\n",
              "    <tr>\n",
              "      <th>2</th>\n",
              "      <td>9.824305e+06</td>\n",
              "      <td>99.919789</td>\n",
              "      <td>41.345263</td>\n",
              "      <td>100.0</td>\n",
              "      <td>85</td>\n",
              "      <td>1384</td>\n",
              "      <td>35192</td>\n",
              "    </tr>\n",
              "    <tr>\n",
              "      <th>3</th>\n",
              "      <td>2.454761e+03</td>\n",
              "      <td>99.898226</td>\n",
              "      <td>28.585050</td>\n",
              "      <td>100.0</td>\n",
              "      <td>67</td>\n",
              "      <td>376</td>\n",
              "      <td>17437</td>\n",
              "    </tr>\n",
              "    <tr>\n",
              "      <th>4</th>\n",
              "      <td>8.182710e+05</td>\n",
              "      <td>99.905351</td>\n",
              "      <td>42.877575</td>\n",
              "      <td>100.0</td>\n",
              "      <td>55</td>\n",
              "      <td>385</td>\n",
              "      <td>10812</td>\n",
              "    </tr>\n",
              "  </tbody>\n",
              "</table>\n",
              "</div>"
            ],
            "text/plain": [
              "   betwCentrality  closCentrality  degrCentrality  ...  h_indices  pubs    cits\n",
              "0    2.236758e+06       99.938727       35.230696  ...        155  1074  102385\n",
              "1    1.765700e+04       99.900311        9.017579  ...         31   304    3389\n",
              "2    9.824305e+06       99.919789       41.345263  ...         85  1384   35192\n",
              "3    2.454761e+03       99.898226       28.585050  ...         67   376   17437\n",
              "4    8.182710e+05       99.905351       42.877575  ...         55   385   10812\n",
              "\n",
              "[5 rows x 7 columns]"
            ]
          },
          "metadata": {
            "tags": []
          },
          "execution_count": 30
        }
      ]
    },
    {
      "cell_type": "code",
      "metadata": {
        "id": "zqx9LsTBaJeQ",
        "colab_type": "code",
        "colab": {
          "base_uri": "https://localhost:8080/"
        },
        "outputId": "f310bc58-6bb5-4a4d-bf97-169caf93bae1"
      },
      "source": [
        "plt.matshow(corr_df.corr())\n",
        "plt.show()"
      ],
      "execution_count": null,
      "outputs": [
        {
          "output_type": "display_data",
          "data": {
            "image/png": "[encoded data removed]",
            "text/plain": [
              "<Figure size 288x288 with 1 Axes>"
            ]
          },
          "metadata": {
            "tags": [],
            "needs_background": "light"
          }
        }
      ]
    },
    {
      "cell_type": "code",
      "metadata": {
        "id": "Z7rclF2faSlI",
        "colab_type": "code",
        "colab": {
          "base_uri": "https://localhost:8080/"
        },
        "outputId": "2149f6de-47b6-491c-d113-57f6f1703727"
      },
      "source": [
        "c = scatter_matrix(corr_df, alpha=0.2, figsize=(12,8))"
      ],
      "execution_count": null,
      "outputs": [
        {
          "output_type": "display_data",
          "data": {
            "image/png": "[encoded data removed]",
            "text/plain": [
              "<Figure size 864x576 with 49 Axes>"
            ]
          },
          "metadata": {
            "tags": [],
            "needs_background": "light"
          }
        }
      ]
    },
    {
      "cell_type": "markdown",
      "metadata": {
        "id": "DYcmjw-4g8_c",
        "colab_type": "text"
      },
      "source": [
        "T-test"
      ]
    },
    {
      "cell_type": "code",
      "metadata": {
        "id": "ASGyRgjbYVrv",
        "colab_type": "code",
        "colab": {}
      },
      "source": [
        "from scipy import stats\n",
        "from random import sample"
      ],
      "execution_count": null,
      "outputs": []
    },
    {
      "cell_type": "code",
      "metadata": {
        "id": "6-KHnp5rg-RM",
        "colab_type": "code",
        "colab": {}
      },
      "source": [
        "med = median(pubs)"
      ],
      "execution_count": null,
      "outputs": []
    },
    {
      "cell_type": "code",
      "metadata": {
        "id": "tMk3JcplhKc8",
        "colab_type": "code",
        "colab": {}
      },
      "source": [
        "pubG = [betwCentrality[i] for i in range(len(pubs)) if pubs[i] > med]\n",
        "pubL = [betwCentrality[i] for i in range(len(pubs)) if pubs[i] < med]"
      ],
      "execution_count": null,
      "outputs": []
    },
    {
      "cell_type": "code",
      "metadata": {
        "id": "-kI2UpMsqDZL",
        "colab_type": "code",
        "colab": {
          "base_uri": "https://localhost:8080/"
        },
        "outputId": "ba3131bd-7ace-472e-8cbe-482753cec7bd"
      },
      "source": [
        "mean(pubG)"
      ],
      "execution_count": null,
      "outputs": [
        {
          "output_type": "execute_result",
          "data": {
            "text/plain": [
              "221767.94630837644"
            ]
          },
          "metadata": {
            "tags": []
          },
          "execution_count": 36
        }
      ]
    },
    {
      "cell_type": "code",
      "metadata": {
        "id": "CepVF7aXhl46",
        "colab_type": "code",
        "colab": {}
      },
      "source": [
        "pubG = sample(pubG, 1000)\n",
        "pubL = sample(pubL, 1000)"
      ],
      "execution_count": null,
      "outputs": []
    },
    {
      "cell_type": "code",
      "metadata": {
        "id": "mG4YGn5th0IU",
        "colab_type": "code",
        "colab": {
          "base_uri": "https://localhost:8080/"
        },
        "outputId": "84e25913-a91b-4a72-c9cb-f96b2336c3ea"
      },
      "source": [
        "stats.ttest_ind(pubL, pubG)"
      ],
      "execution_count": null,
      "outputs": [
        {
          "output_type": "execute_result",
          "data": {
            "text/plain": [
              "Ttest_indResult(statistic=-4.179654889674236, pvalue=3.045458183719095e-05)"
            ]
          },
          "metadata": {
            "tags": []
          },
          "execution_count": 38
        }
      ]
    },
    {
      "cell_type": "code",
      "metadata": {
        "id": "q0xOMzl0iSpG",
        "colab_type": "code",
        "colab": {
          "base_uri": "https://localhost:8080/"
        },
        "outputId": "a38344dc-6bde-4b17-8bd7-4d9b036a87ff"
      },
      "source": [
        "np.corrcoef(pubG, pubL)"
      ],
      "execution_count": null,
      "outputs": [
        {
          "output_type": "execute_result",
          "data": {
            "text/plain": [
              "array([[ 1.        , -0.00654243],\n",
              "       [-0.00654243,  1.        ]])"
            ]
          },
          "metadata": {
            "tags": []
          },
          "execution_count": 39
        }
      ]
    },
    {
      "cell_type": "code",
      "metadata": {
        "id": "juZTGqH4rJ_N",
        "colab_type": "code",
        "colab": {}
      },
      "source": [
        ""
      ],
      "execution_count": null,
      "outputs": []
    },
    {
      "cell_type": "markdown",
      "metadata": {
        "id": "5V1smhHdK2Ya",
        "colab_type": "text"
      },
      "source": [
        "## Are community measures good indicators for individual features?"
      ]
    },
    {
      "cell_type": "code",
      "metadata": {
        "id": "gMHFu9CvLOpg",
        "colab_type": "code",
        "colab": {
          "base_uri": "https://localhost:8080/",
          "height": 1000
        },
        "outputId": "b5cab2b1-3cea-4623-a950-488248a88fe4"
      },
      "source": [
        "!pip install cdlib\n",
        "!pip install angel-cd"
      ],
      "execution_count": null,
      "outputs": [
        {
          "output_type": "stream",
          "text": [
            "Requirement already satisfied: cdlib in /usr/local/lib/python3.6/dist-packages (0.1.8)\n",
            "Requirement already satisfied: tqdm>=4.20.* in /usr/local/lib/python3.6/dist-packages (from cdlib) (4.41.1)\n",
            "Requirement already satisfied: numpy>=1.15.* in /usr/local/lib/python3.6/dist-packages (from cdlib) (1.18.5)\n",
            "Requirement already satisfied: omega-index-py3 in /usr/local/lib/python3.6/dist-packages (from cdlib) (0.3)\n",
            "Requirement already satisfied: matplotlib>=3.0.* in /usr/local/lib/python3.6/dist-packages (from cdlib) (3.2.2)\n",
            "Requirement already satisfied: mock==3.0.* in /usr/local/lib/python3.6/dist-packages (from cdlib) (3.0.5)\n",
            "Requirement already satisfied: future>=0.16.* in /usr/local/lib/python3.6/dist-packages (from cdlib) (0.16.0)\n",
            "Requirement already satisfied: pquality==0.0.7 in /usr/local/lib/python3.6/dist-packages (from cdlib) (0.0.7)\n",
            "Requirement already satisfied: sphinx-rtd-theme==0.4.* in /usr/local/lib/python3.6/dist-packages (from cdlib) (0.4.3)\n",
            "Requirement already satisfied: eva-lcd in /usr/local/lib/python3.6/dist-packages (from cdlib) (0.1.0)\n",
            "Requirement already satisfied: networkx<2.4,>=2.2 in /usr/local/lib/python3.6/dist-packages (from cdlib) (2.3)\n",
            "Requirement already satisfied: pulp==1.6.* in /usr/local/lib/python3.6/dist-packages (from cdlib) (1.6.10)\n",
            "Requirement already satisfied: karateclub in /usr/local/lib/python3.6/dist-packages (from cdlib) (1.0.9)\n",
            "Requirement already satisfied: demon>=2.0.* in /usr/local/lib/python3.6/dist-packages (from cdlib) (2.0.5)\n",
            "Requirement already satisfied: scikit-learn>=0.21.* in /usr/local/lib/python3.6/dist-packages (from cdlib) (0.22.2.post1)\n",
            "Requirement already satisfied: bimlpa in /usr/local/lib/python3.6/dist-packages (from cdlib) (0.1.2)\n",
            "Requirement already satisfied: sphinx==1.7.5 in /usr/local/lib/python3.6/dist-packages (from cdlib) (1.7.5)\n",
            "Requirement already satisfied: nf1 in /usr/local/lib/python3.6/dist-packages (from cdlib) (0.0.3)\n",
            "Requirement already satisfied: scipy>=1.3.* in /usr/local/lib/python3.6/dist-packages (from cdlib) (1.4.1)\n",
            "Requirement already satisfied: seaborn>=0.9.* in /usr/local/lib/python3.6/dist-packages (from cdlib) (0.10.1)\n",
            "Requirement already satisfied: python-louvain==0.13 in /usr/local/lib/python3.6/dist-packages (from cdlib) (0.13)\n",
            "Requirement already satisfied: pandas>=0.24 in /usr/local/lib/python3.6/dist-packages (from cdlib) (1.0.5)\n",
            "Requirement already satisfied: pyparsing!=2.0.4,!=2.1.2,!=2.1.6,>=2.0.1 in /usr/local/lib/python3.6/dist-packages (from matplotlib>=3.0.*->cdlib) (2.4.7)\n",
            "Requirement already satisfied: python-dateutil>=2.1 in /usr/local/lib/python3.6/dist-packages (from matplotlib>=3.0.*->cdlib) (2.8.1)\n",
            "Requirement already satisfied: kiwisolver>=1.0.1 in /usr/local/lib/python3.6/dist-packages (from matplotlib>=3.0.*->cdlib) (1.2.0)\n",
            "Requirement already satisfied: cycler>=0.10 in /usr/local/lib/python3.6/dist-packages (from matplotlib>=3.0.*->cdlib) (0.10.0)\n",
            "Requirement already satisfied: six in /usr/local/lib/python3.6/dist-packages (from mock==3.0.*->cdlib) (1.12.0)\n",
            "Requirement already satisfied: decorator>=4.3.0 in /usr/local/lib/python3.6/dist-packages (from networkx<2.4,>=2.2->cdlib) (4.4.2)\n",
            "Requirement already satisfied: pygsp in /usr/local/lib/python3.6/dist-packages (from karateclub->cdlib) (0.5.1)\n",
            "Requirement already satisfied: gensim in /usr/local/lib/python3.6/dist-packages (from karateclub->cdlib) (3.6.0)\n",
            "Requirement already satisfied: sklearn in /usr/local/lib/python3.6/dist-packages (from karateclub->cdlib) (0.0)\n",
            "Requirement already satisfied: joblib>=0.11 in /usr/local/lib/python3.6/dist-packages (from scikit-learn>=0.21.*->cdlib) (0.16.0)\n",
            "Requirement already satisfied: setuptools in /usr/local/lib/python3.6/dist-packages (from sphinx==1.7.5->cdlib) (49.1.0)\n",
            "Requirement already satisfied: sphinxcontrib-websupport in /usr/local/lib/python3.6/dist-packages (from sphinx==1.7.5->cdlib) (1.2.3)\n",
            "Requirement already satisfied: Jinja2>=2.3 in /usr/local/lib/python3.6/dist-packages (from sphinx==1.7.5->cdlib) (2.11.2)\n",
            "Requirement already satisfied: packaging in /usr/local/lib/python3.6/dist-packages (from sphinx==1.7.5->cdlib) (20.4)\n",
            "Requirement already satisfied: requests>=2.0.0 in /usr/local/lib/python3.6/dist-packages (from sphinx==1.7.5->cdlib) (2.23.0)\n",
            "Requirement already satisfied: docutils>=0.11 in /usr/local/lib/python3.6/dist-packages (from sphinx==1.7.5->cdlib) (0.15.2)\n",
            "Requirement already satisfied: babel!=2.0,>=1.3 in /usr/local/lib/python3.6/dist-packages (from sphinx==1.7.5->cdlib) (2.8.0)\n",
            "Requirement already satisfied: alabaster<0.8,>=0.7 in /usr/local/lib/python3.6/dist-packages (from sphinx==1.7.5->cdlib) (0.7.12)\n",
            "Requirement already satisfied: Pygments>=2.0 in /usr/local/lib/python3.6/dist-packages (from sphinx==1.7.5->cdlib) (2.1.3)\n",
            "Requirement already satisfied: imagesize in /usr/local/lib/python3.6/dist-packages (from sphinx==1.7.5->cdlib) (1.2.0)\n",
            "Requirement already satisfied: snowballstemmer>=1.1 in /usr/local/lib/python3.6/dist-packages (from sphinx==1.7.5->cdlib) (2.0.0)\n",
            "Requirement already satisfied: pytz>=2017.2 in /usr/local/lib/python3.6/dist-packages (from pandas>=0.24->cdlib) (2018.9)\n",
            "Requirement already satisfied: smart-open>=1.2.1 in /usr/local/lib/python3.6/dist-packages (from gensim->karateclub->cdlib) (2.1.0)\n",
            "Requirement already satisfied: MarkupSafe>=0.23 in /usr/local/lib/python3.6/dist-packages (from Jinja2>=2.3->sphinx==1.7.5->cdlib) (1.1.1)\n",
            "Requirement already satisfied: chardet<4,>=3.0.2 in /usr/local/lib/python3.6/dist-packages (from requests>=2.0.0->sphinx==1.7.5->cdlib) (3.0.4)\n",
            "Requirement already satisfied: urllib3!=1.25.0,!=1.25.1,<1.26,>=1.21.1 in /usr/local/lib/python3.6/dist-packages (from requests>=2.0.0->sphinx==1.7.5->cdlib) (1.24.3)\n",
            "Requirement already satisfied: idna<3,>=2.5 in /usr/local/lib/python3.6/dist-packages (from requests>=2.0.0->sphinx==1.7.5->cdlib) (2.10)\n",
            "Requirement already satisfied: certifi>=2017.4.17 in /usr/local/lib/python3.6/dist-packages (from requests>=2.0.0->sphinx==1.7.5->cdlib) (2020.6.20)\n",
            "Requirement already satisfied: boto3 in /usr/local/lib/python3.6/dist-packages (from smart-open>=1.2.1->gensim->karateclub->cdlib) (1.14.20)\n",
            "Requirement already satisfied: boto in /usr/local/lib/python3.6/dist-packages (from smart-open>=1.2.1->gensim->karateclub->cdlib) (2.49.0)\n",
            "Requirement already satisfied: s3transfer<0.4.0,>=0.3.0 in /usr/local/lib/python3.6/dist-packages (from boto3->smart-open>=1.2.1->gensim->karateclub->cdlib) (0.3.3)\n",
            "Requirement already satisfied: jmespath<1.0.0,>=0.7.1 in /usr/local/lib/python3.6/dist-packages (from boto3->smart-open>=1.2.1->gensim->karateclub->cdlib) (0.10.0)\n",
            "Requirement already satisfied: botocore<1.18.0,>=1.17.20 in /usr/local/lib/python3.6/dist-packages (from boto3->smart-open>=1.2.1->gensim->karateclub->cdlib) (1.17.20)\n",
            "Collecting angel-cd\n",
            "  Downloading https://files.pythonhosted.org/packages/01/b1/61435b5a3dba2cca2693279c11095cc6a923b729cd08a1a4a2f51206fa95/angel_cd-1.0.2-py3-none-any.whl\n",
            "Requirement already satisfied: networkx in /usr/local/lib/python3.6/dist-packages (from angel-cd) (2.3)\n",
            "Requirement already satisfied: future in /usr/local/lib/python3.6/dist-packages (from angel-cd) (0.16.0)\n",
            "Requirement already satisfied: tqdm in /usr/local/lib/python3.6/dist-packages (from angel-cd) (4.41.1)\n",
            "Requirement already satisfied: python-igraph in /usr/local/lib/python3.6/dist-packages (from angel-cd) (0.8.2)\n",
            "Requirement already satisfied: decorator>=4.3.0 in /usr/local/lib/python3.6/dist-packages (from networkx->angel-cd) (4.4.2)\n",
            "Requirement already satisfied: texttable>=1.6.2 in /usr/local/lib/python3.6/dist-packages (from python-igraph->angel-cd) (1.6.2)\n",
            "Installing collected packages: angel-cd\n",
            "Successfully installed angel-cd-1.0.2\n"
          ],
          "name": "stdout"
        }
      ]
    },
    {
      "cell_type": "code",
      "metadata": {
        "id": "H69aQRaeK2tV",
        "colab_type": "code",
        "colab": {}
      },
      "source": [
        "from cdlib import algorithms\n",
        "from cdlib import *"
      ],
      "execution_count": null,
      "outputs": []
    },
    {
      "cell_type": "code",
      "metadata": {
        "id": "ggLU4u_a2Gzy",
        "colab_type": "code",
        "colab": {}
      },
      "source": [
        "biggestSubG = load_obj(\"biggestSubG\")"
      ],
      "execution_count": null,
      "outputs": []
    },
    {
      "cell_type": "code",
      "metadata": {
        "id": "Eh_GSpn9K3Dl",
        "colab_type": "code",
        "colab": {}
      },
      "source": [
        "lab = algorithms.label_propagation(biggestSubG)"
      ],
      "execution_count": null,
      "outputs": []
    },
    {
      "cell_type": "markdown",
      "metadata": {
        "id": "NQW3qIxQNPBB",
        "colab_type": "text"
      },
      "source": [
        "#### Calculating average clustring coefficient and mean of h-index for each community"
      ]
    },
    {
      "cell_type": "code",
      "metadata": {
        "id": "NZyqWN-nLHXo",
        "colab_type": "code",
        "colab": {}
      },
      "source": [
        "h_indices_avg = []\n",
        "clust_coeffs = []\n",
        "\n",
        "for community in lab.communities:\n",
        "  commG = biggestSubG.subgraph(community)\n",
        "\n",
        "  # h_index\n",
        "  h_inds = [int(h) for h in commG.vs[\"h_index\"] if h!='']\n",
        "  h_ind = sum(h_inds)/len(h_inds) if len(h_inds)!= 0 else 0\n",
        "\n",
        "  h_indices_avg.append(h_ind)\n",
        "\n",
        "  # clustering coefficient\n",
        "  clust = commG.transitivity_undirected()\n",
        "  clust_coeffs.append(clust)"
      ],
      "execution_count": null,
      "outputs": []
    },
    {
      "cell_type": "markdown",
      "metadata": {
        "id": "xQxwOJov2qn4",
        "colab_type": "text"
      },
      "source": [
        "Are there correlations?"
      ]
    },
    {
      "cell_type": "code",
      "metadata": {
        "id": "15lGeKo75tjD",
        "colab_type": "code",
        "colab": {
          "base_uri": "https://localhost:8080/",
          "height": 265
        },
        "outputId": "6386b7f9-92c7-474d-d0d4-d76348cae781"
      },
      "source": [
        "plt.scatter(h_indices_avg, clust_coeffs, c=\"black\")\n",
        "plt.savefig('/content/drive/My Drive/NetworkScience/AcademicGraph/data/obj/h_clustering.png')"
      ],
      "execution_count": null,
      "outputs": [
        {
          "output_type": "display_data",
          "data": {
            "image/png": "[encoded data removed]",
            "text/plain": [
              "<Figure size 432x288 with 1 Axes>"
            ]
          },
          "metadata": {
            "tags": [],
            "needs_background": "light"
          }
        }
      ]
    },
    {
      "cell_type": "markdown",
      "metadata": {
        "id": "84_PY_QM6UPZ",
        "colab_type": "text"
      },
      "source": [
        "Degree centrality and h-index"
      ]
    },
    {
      "cell_type": "code",
      "metadata": {
        "id": "-w524wLI5654",
        "colab_type": "code",
        "colab": {}
      },
      "source": [
        "h_indices_avg = []\n",
        "degs = []\n",
        "\n",
        "for community in lab.communities:\n",
        "  commG = biggestSubG.subgraph(community)\n",
        "\n",
        "  # h_index\n",
        "  notnull = [[int(h), mean(commG.degree())] for h in commG.vs[\"h_index\"] if h!='']\n",
        "\n",
        "  h_ind = mean([el[0] for el in notnull])\n",
        "  h_indices_avg.append(h_ind)\n",
        "\n",
        "  deg = mean([el[1] for el in notnull]) \n",
        "  degs.append(deg)"
      ],
      "execution_count": null,
      "outputs": []
    },
    {
      "cell_type": "code",
      "metadata": {
        "id": "kGpZVEJg80wz",
        "colab_type": "code",
        "colab": {}
      },
      "source": [
        "degs = degs[5:]\n",
        "h_indices_avg = h_indices_avg[5:]"
      ],
      "execution_count": null,
      "outputs": []
    },
    {
      "cell_type": "code",
      "metadata": {
        "id": "AXMNuUgl9Xy2",
        "colab_type": "code",
        "colab": {}
      },
      "source": [
        ""
      ],
      "execution_count": null,
      "outputs": []
    },
    {
      "cell_type": "code",
      "metadata": {
        "id": "OY5oMsvo6mG8",
        "colab_type": "code",
        "colab": {
          "base_uri": "https://localhost:8080/",
          "height": 265
        },
        "outputId": "c3f6850f-a2dc-4a16-d22d-435177801822"
      },
      "source": [
        "plt.scatter(h_indices_avg, degs, c=\"black\")\n",
        "plt.savefig('/content/drive/My Drive/NetworkScience/AcademicGraph/data/obj/h_deg.png')"
      ],
      "execution_count": null,
      "outputs": [
        {
          "output_type": "display_data",
          "data": {
            "image/png": "[encoded data removed]",
            "text/plain": [
              "<Figure size 432x288 with 1 Axes>"
            ]
          },
          "metadata": {
            "tags": [],
            "needs_background": "light"
          }
        }
      ]
    },
    {
      "cell_type": "code",
      "metadata": {
        "id": "qOrklQWo6pth",
        "colab_type": "code",
        "colab": {}
      },
      "source": [
        ""
      ],
      "execution_count": null,
      "outputs": []
    },
    {
      "cell_type": "code",
      "metadata": {
        "id": "TJdPRVXD_Nb7",
        "colab_type": "code",
        "colab": {}
      },
      "source": [
        ""
      ],
      "execution_count": null,
      "outputs": []
    },
    {
      "cell_type": "code",
      "metadata": {
        "id": "E6_9O7KH_XQz",
        "colab_type": "code",
        "colab": {}
      },
      "source": [
        ""
      ],
      "execution_count": null,
      "outputs": []
    },
    {
      "cell_type": "code",
      "metadata": {
        "id": "14KR_6A__ZaQ",
        "colab_type": "code",
        "colab": {}
      },
      "source": [
        ""
      ],
      "execution_count": null,
      "outputs": []
    },
    {
      "cell_type": "code",
      "metadata": {
        "id": "p7jgAkYr_bhB",
        "colab_type": "code",
        "colab": {}
      },
      "source": [
        ""
      ],
      "execution_count": null,
      "outputs": []
    }
  ]
}