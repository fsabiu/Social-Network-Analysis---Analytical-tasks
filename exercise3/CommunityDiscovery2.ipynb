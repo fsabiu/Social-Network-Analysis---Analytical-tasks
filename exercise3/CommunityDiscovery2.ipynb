{
  "nbformat": 4,
  "nbformat_minor": 0,
  "metadata": {
    "environment": {
      "name": "common-cpu.m50",
      "type": "gcloud",
      "uri": "gcr.io/deeplearning-platform-release/base-cpu:m50"
    },
    "kernelspec": {
      "display_name": "Python 3",
      "language": "python",
      "name": "python3"
    },
    "language_info": {
      "codemirror_mode": {
        "name": "ipython",
        "version": 3
      },
      "file_extension": ".py",
      "mimetype": "text/x-python",
      "name": "python",
      "nbconvert_exporter": "python",
      "pygments_lexer": "ipython3",
      "version": "3.6.9"
    },
    "colab": {
      "name": "5_CommunityDiscovery2.ipynb",
      "provenance": [],
      "collapsed_sections": [],
      "toc_visible": true
    }
  },
  "cells": [
    {
      "cell_type": "code",
      "metadata": {
        "id": "YjQQ7NF5by8j",
        "colab_type": "code",
        "colab": {
          "base_uri": "https://localhost:8080/",
          "height": 1000
        },
        "outputId": "a99ad9ee-1b23-4ba7-bf83-84608d2b46c6"
      },
      "source": [
        "!pip install folium==0.2.1\n",
        "!pip install cdlib\n",
        "!pip install leidenalg\n",
        "!pip install imgaug==0.2.5\n",
        "!pip install python-igraph"
      ],
      "execution_count": null,
      "outputs": [
        {
          "output_type": "stream",
          "text": [
            "Collecting folium==0.2.1\n",
            "\u001b[?25l  Downloading https://files.pythonhosted.org/packages/72/dd/75ced7437bfa7cb9a88b96ee0177953062803c3b4cde411a97d98c35adaf/folium-0.2.1.tar.gz (69kB)\n",
            "\r\u001b[K     |████▊                           | 10kB 16.0MB/s eta 0:00:01\r\u001b[K     |█████████▍                      | 20kB 1.6MB/s eta 0:00:01\r\u001b[K     |██████████████                  | 30kB 2.1MB/s eta 0:00:01\r\u001b[K     |██████████████████▊             | 40kB 2.4MB/s eta 0:00:01\r\u001b[K     |███████████████████████▍        | 51kB 1.9MB/s eta 0:00:01\r\u001b[K     |████████████████████████████    | 61kB 2.1MB/s eta 0:00:01\r\u001b[K     |████████████████████████████████| 71kB 1.9MB/s \n",
            "\u001b[?25hRequirement already satisfied: Jinja2 in /usr/local/lib/python3.6/dist-packages (from folium==0.2.1) (2.11.2)\n",
            "Requirement already satisfied: MarkupSafe>=0.23 in /usr/local/lib/python3.6/dist-packages (from Jinja2->folium==0.2.1) (1.1.1)\n",
            "Building wheels for collected packages: folium\n",
            "  Building wheel for folium (setup.py) ... \u001b[?25l\u001b[?25hdone\n",
            "  Created wheel for folium: filename=folium-0.2.1-cp36-none-any.whl size=79979 sha256=712cf5bd9e5a63021aec18aafed8e8e44a06d1dc2a0df1e9d2f876b95bef53a1\n",
            "  Stored in directory: /root/.cache/pip/wheels/b8/09/f0/52d2ef419c2aaf4fb149f92a33e0008bdce7ae816f0dd8f0c5\n",
            "Successfully built folium\n",
            "Installing collected packages: folium\n",
            "  Found existing installation: folium 0.8.3\n",
            "    Uninstalling folium-0.8.3:\n",
            "      Successfully uninstalled folium-0.8.3\n",
            "Successfully installed folium-0.2.1\n",
            "Collecting cdlib\n",
            "\u001b[?25l  Downloading https://files.pythonhosted.org/packages/3c/e1/26f67e1bff8b1e70cdb47d811448f22402aa399961aef35d2a1fb4ff50cb/cdlib-0.1.8-py3-none-any.whl (113kB)\n",
            "\u001b[K     |████████████████████████████████| 122kB 2.8MB/s \n",
            "\u001b[?25hCollecting bimlpa\n",
            "  Downloading https://files.pythonhosted.org/packages/11/8c/7d409d7e7bcbd261c7f19737feaa1ef66514512c7f7d6b9a776d7aac7c33/bimlpa-0.1.2-py3-none-any.whl\n",
            "Collecting karateclub\n",
            "  Downloading https://files.pythonhosted.org/packages/63/4f/32688d45579538a1d4f46bb91079b2682ea24a9c49143ef01b4190f73148/karateclub-1.0.9.tar.gz\n",
            "Requirement already satisfied: scikit-learn>=0.21.* in /usr/local/lib/python3.6/dist-packages (from cdlib) (0.22.2.post1)\n",
            "Collecting sphinx-rtd-theme==0.4.*\n",
            "\u001b[?25l  Downloading https://files.pythonhosted.org/packages/60/b4/4df37087a1d36755e3a3bfd2a30263f358d2dea21938240fa02313d45f51/sphinx_rtd_theme-0.4.3-py2.py3-none-any.whl (6.4MB)\n",
            "\u001b[K     |████████████████████████████████| 6.4MB 75kB/s \n",
            "\u001b[?25hCollecting pquality==0.0.7\n",
            "  Downloading https://files.pythonhosted.org/packages/12/f8/5357fd9dfe0f105fea5439fcb01a21b8550a71d0e0b702b2bc0372c953c4/pquality-0.0.7-py3-none-any.whl\n",
            "Collecting demon>=2.0.*\n",
            "  Downloading https://files.pythonhosted.org/packages/87/21/e84965594c51885a2f3b5f6ff224ba58f932cc66241489e0d763b9ac531b/demon-2.0.5-py3-none-any.whl\n",
            "Requirement already satisfied: seaborn>=0.9.* in /usr/local/lib/python3.6/dist-packages (from cdlib) (0.10.1)\n",
            "Requirement already satisfied: numpy>=1.15.* in /usr/local/lib/python3.6/dist-packages (from cdlib) (1.18.5)\n",
            "Requirement already satisfied: tqdm>=4.20.* in /usr/local/lib/python3.6/dist-packages (from cdlib) (4.41.1)\n",
            "Requirement already satisfied: future>=0.16.* in /usr/local/lib/python3.6/dist-packages (from cdlib) (0.16.0)\n",
            "Requirement already satisfied: scipy>=1.3.* in /usr/local/lib/python3.6/dist-packages (from cdlib) (1.4.1)\n",
            "Collecting mock==3.0.*\n",
            "  Downloading https://files.pythonhosted.org/packages/05/d2/f94e68be6b17f46d2c353564da56e6fb89ef09faeeff3313a046cb810ca9/mock-3.0.5-py2.py3-none-any.whl\n",
            "Collecting eva-lcd\n",
            "  Downloading https://files.pythonhosted.org/packages/e2/a4/f1f79a5c964831e2d3864e159c433cab5a8f420017e3492d615415c4ac24/eva_lcd-0.1.0-py3-none-any.whl\n",
            "Collecting nf1\n",
            "  Downloading https://files.pythonhosted.org/packages/4c/41/18e9d6c802db1084c157a0d6c5b38be5878f925e1cf53d7eb03edc7ec6ad/nf1-0.0.3-py3-none-any.whl\n",
            "Collecting omega-index-py3\n",
            "  Downloading https://files.pythonhosted.org/packages/fb/57/ab48f801af9ef0ce273fe1969df825a99f52a73ff18767c7084f60471028/omega_index_py3-0.3-py3-none-any.whl\n",
            "Collecting python-louvain==0.13\n",
            "  Downloading https://files.pythonhosted.org/packages/96/b2/c74bb9023c8d4bf94f5049e3d705b3064c6f180a38d772055d20ba5a8d06/python-louvain-0.13.tar.gz\n",
            "Collecting sphinx==1.7.5\n",
            "\u001b[?25l  Downloading https://files.pythonhosted.org/packages/1b/9f/98d67201c5a6e1aececed03a44a819d0e32adba81414081e303cfaf8c54c/Sphinx-1.7.5-py2.py3-none-any.whl (1.9MB)\n",
            "\u001b[K     |████████████████████████████████| 1.9MB 45.3MB/s \n",
            "\u001b[?25hRequirement already satisfied: matplotlib>=3.0.* in /usr/local/lib/python3.6/dist-packages (from cdlib) (3.2.2)\n",
            "Collecting pulp==1.6.*\n",
            "\u001b[?25l  Downloading https://files.pythonhosted.org/packages/2d/33/3ae6d9d2ac8c7068937af6372fd8828ac605e62a8b17106fe57110930d38/PuLP-1.6.10.zip (13.6MB)\n",
            "\u001b[K     |████████████████████████████████| 13.6MB 306kB/s \n",
            "\u001b[33mWARNING: Retrying (Retry(total=4, connect=None, read=None, redirect=None, status=None)) after connection broken by 'ProtocolError('Connection aborted.', ConnectionResetError(104, 'Connection reset by peer'))': /simple/networkx/\u001b[0m\n",
            "\u001b[?25hCollecting networkx<2.4,>=2.2\n",
            "\u001b[?25l  Downloading https://files.pythonhosted.org/packages/85/08/f20aef11d4c343b557e5de6b9548761811eb16e438cee3d32b1c66c8566b/networkx-2.3.zip (1.7MB)\n",
            "\u001b[K     |████████████████████████████████| 1.8MB 45.1MB/s \n",
            "\u001b[?25hRequirement already satisfied: pandas>=0.24 in /usr/local/lib/python3.6/dist-packages (from cdlib) (1.0.5)\n",
            "Requirement already satisfied: sklearn in /usr/local/lib/python3.6/dist-packages (from karateclub->cdlib) (0.0)\n",
            "Collecting pygsp\n",
            "\u001b[?25l  Downloading https://files.pythonhosted.org/packages/d4/89/2f4aa73cccf12bec5179ac5d52a68b508120c838b7e5d456f5ea0c8beade/PyGSP-0.5.1-py2.py3-none-any.whl (1.8MB)\n",
            "\u001b[K     |████████████████████████████████| 1.8MB 44.5MB/s \n",
            "\u001b[?25hRequirement already satisfied: gensim in /usr/local/lib/python3.6/dist-packages (from karateclub->cdlib) (3.6.0)\n",
            "Requirement already satisfied: six in /usr/local/lib/python3.6/dist-packages (from karateclub->cdlib) (1.12.0)\n",
            "Requirement already satisfied: joblib>=0.11 in /usr/local/lib/python3.6/dist-packages (from scikit-learn>=0.21.*->cdlib) (0.16.0)\n",
            "Requirement already satisfied: alabaster<0.8,>=0.7 in /usr/local/lib/python3.6/dist-packages (from sphinx==1.7.5->cdlib) (0.7.12)\n",
            "Requirement already satisfied: setuptools in /usr/local/lib/python3.6/dist-packages (from sphinx==1.7.5->cdlib) (49.1.0)\n",
            "Requirement already satisfied: packaging in /usr/local/lib/python3.6/dist-packages (from sphinx==1.7.5->cdlib) (20.4)\n",
            "Requirement already satisfied: requests>=2.0.0 in /usr/local/lib/python3.6/dist-packages (from sphinx==1.7.5->cdlib) (2.23.0)\n",
            "Requirement already satisfied: docutils>=0.11 in /usr/local/lib/python3.6/dist-packages (from sphinx==1.7.5->cdlib) (0.15.2)\n",
            "Requirement already satisfied: babel!=2.0,>=1.3 in /usr/local/lib/python3.6/dist-packages (from sphinx==1.7.5->cdlib) (2.8.0)\n",
            "Requirement already satisfied: Pygments>=2.0 in /usr/local/lib/python3.6/dist-packages (from sphinx==1.7.5->cdlib) (2.1.3)\n",
            "Requirement already satisfied: Jinja2>=2.3 in /usr/local/lib/python3.6/dist-packages (from sphinx==1.7.5->cdlib) (2.11.2)\n",
            "Requirement already satisfied: snowballstemmer>=1.1 in /usr/local/lib/python3.6/dist-packages (from sphinx==1.7.5->cdlib) (2.0.0)\n",
            "Requirement already satisfied: sphinxcontrib-websupport in /usr/local/lib/python3.6/dist-packages (from sphinx==1.7.5->cdlib) (1.2.3)\n",
            "Requirement already satisfied: imagesize in /usr/local/lib/python3.6/dist-packages (from sphinx==1.7.5->cdlib) (1.2.0)\n",
            "Requirement already satisfied: pyparsing!=2.0.4,!=2.1.2,!=2.1.6,>=2.0.1 in /usr/local/lib/python3.6/dist-packages (from matplotlib>=3.0.*->cdlib) (2.4.7)\n",
            "Requirement already satisfied: kiwisolver>=1.0.1 in /usr/local/lib/python3.6/dist-packages (from matplotlib>=3.0.*->cdlib) (1.2.0)\n",
            "Requirement already satisfied: python-dateutil>=2.1 in /usr/local/lib/python3.6/dist-packages (from matplotlib>=3.0.*->cdlib) (2.8.1)\n",
            "Requirement already satisfied: cycler>=0.10 in /usr/local/lib/python3.6/dist-packages (from matplotlib>=3.0.*->cdlib) (0.10.0)\n",
            "Requirement already satisfied: decorator>=4.3.0 in /usr/local/lib/python3.6/dist-packages (from networkx<2.4,>=2.2->cdlib) (4.4.2)\n",
            "Requirement already satisfied: pytz>=2017.2 in /usr/local/lib/python3.6/dist-packages (from pandas>=0.24->cdlib) (2018.9)\n",
            "Requirement already satisfied: smart-open>=1.2.1 in /usr/local/lib/python3.6/dist-packages (from gensim->karateclub->cdlib) (2.1.0)\n",
            "Requirement already satisfied: idna<3,>=2.5 in /usr/local/lib/python3.6/dist-packages (from requests>=2.0.0->sphinx==1.7.5->cdlib) (2.10)\n",
            "Requirement already satisfied: chardet<4,>=3.0.2 in /usr/local/lib/python3.6/dist-packages (from requests>=2.0.0->sphinx==1.7.5->cdlib) (3.0.4)\n",
            "Requirement already satisfied: urllib3!=1.25.0,!=1.25.1,<1.26,>=1.21.1 in /usr/local/lib/python3.6/dist-packages (from requests>=2.0.0->sphinx==1.7.5->cdlib) (1.24.3)\n",
            "Requirement already satisfied: certifi>=2017.4.17 in /usr/local/lib/python3.6/dist-packages (from requests>=2.0.0->sphinx==1.7.5->cdlib) (2020.6.20)\n",
            "Requirement already satisfied: MarkupSafe>=0.23 in /usr/local/lib/python3.6/dist-packages (from Jinja2>=2.3->sphinx==1.7.5->cdlib) (1.1.1)\n",
            "Requirement already satisfied: boto3 in /usr/local/lib/python3.6/dist-packages (from smart-open>=1.2.1->gensim->karateclub->cdlib) (1.14.20)\n",
            "Requirement already satisfied: boto in /usr/local/lib/python3.6/dist-packages (from smart-open>=1.2.1->gensim->karateclub->cdlib) (2.49.0)\n",
            "Requirement already satisfied: jmespath<1.0.0,>=0.7.1 in /usr/local/lib/python3.6/dist-packages (from boto3->smart-open>=1.2.1->gensim->karateclub->cdlib) (0.10.0)\n",
            "Requirement already satisfied: s3transfer<0.4.0,>=0.3.0 in /usr/local/lib/python3.6/dist-packages (from boto3->smart-open>=1.2.1->gensim->karateclub->cdlib) (0.3.3)\n",
            "Requirement already satisfied: botocore<1.18.0,>=1.17.20 in /usr/local/lib/python3.6/dist-packages (from boto3->smart-open>=1.2.1->gensim->karateclub->cdlib) (1.17.20)\n",
            "Building wheels for collected packages: karateclub, python-louvain, pulp, networkx\n",
            "  Building wheel for karateclub (setup.py) ... \u001b[?25l\u001b[?25hdone\n",
            "  Created wheel for karateclub: filename=karateclub-1.0.9-cp36-none-any.whl size=69929 sha256=692d2685cadf646d47f93628051ff8aaf908674cbefe8e7af76f54530ee81be7\n",
            "  Stored in directory: /root/.cache/pip/wheels/06/6b/20/00ab8053202aac9d8a651f674a1382dedf7994b6ff10a7c8bc\n",
            "  Building wheel for python-louvain (setup.py) ... \u001b[?25l\u001b[?25hdone\n",
            "  Created wheel for python-louvain: filename=python_louvain-0.13-cp36-none-any.whl size=9223 sha256=6f15e41af67a0371afb1b9c51eeeb44708958ca51750e12ebdac6fb722ec46fd\n",
            "  Stored in directory: /root/.cache/pip/wheels/f9/74/a9/14f051b00dddd46d71529db15507796da13a43ee2c0bc39def\n",
            "  Building wheel for pulp (setup.py) ... \u001b[?25l\u001b[?25hdone\n",
            "  Created wheel for pulp: filename=PuLP-1.6.10-cp36-none-any.whl size=12269903 sha256=69aca40a29dab5c33607ceff3459b22dfb6a2f18359dd89b41c79c6294a0dcc2\n",
            "  Stored in directory: /root/.cache/pip/wheels/5e/76/77/e28b22219e46e3b4b033f02e8b36b2770ae545bdcf60c2b224\n",
            "  Building wheel for networkx (setup.py) ... \u001b[?25l\u001b[?25hdone\n",
            "  Created wheel for networkx: filename=networkx-2.3-py2.py3-none-any.whl size=1556408 sha256=bb9ff1afabff01821cad82b0e10209759a16112693c83d412cfa721cff945241\n",
            "  Stored in directory: /root/.cache/pip/wheels/de/63/64/3699be2a9d0ccdb37c7f16329acf3863fd76eda58c39c737af\n",
            "Successfully built karateclub python-louvain pulp networkx\n",
            "\u001b[31mERROR: albumentations 0.1.12 has requirement imgaug<0.2.7,>=0.2.5, but you'll have imgaug 0.2.9 which is incompatible.\u001b[0m\n",
            "Installing collected packages: networkx, bimlpa, python-louvain, pygsp, karateclub, sphinx, sphinx-rtd-theme, pquality, demon, mock, eva-lcd, nf1, omega-index-py3, pulp, cdlib\n",
            "  Found existing installation: networkx 2.4\n",
            "    Uninstalling networkx-2.4:\n",
            "      Successfully uninstalled networkx-2.4\n",
            "  Found existing installation: python-louvain 0.14\n",
            "    Uninstalling python-louvain-0.14:\n",
            "      Successfully uninstalled python-louvain-0.14\n",
            "  Found existing installation: Sphinx 1.8.5\n",
            "    Uninstalling Sphinx-1.8.5:\n",
            "      Successfully uninstalled Sphinx-1.8.5\n",
            "Successfully installed bimlpa-0.1.2 cdlib-0.1.8 demon-2.0.5 eva-lcd-0.1.0 karateclub-1.0.9 mock-3.0.5 networkx-2.3 nf1-0.0.3 omega-index-py3-0.3 pquality-0.0.7 pulp-1.6.10 pygsp-0.5.1 python-louvain-0.13 sphinx-1.7.5 sphinx-rtd-theme-0.4.3\n",
            "Collecting leidenalg\n",
            "\u001b[?25l  Downloading https://files.pythonhosted.org/packages/7e/68/01da5910be71e4fd6f96af7c3c0f31f531c96300bbe50b418c0b5a3eaeb6/leidenalg-0.8.1-cp36-cp36m-manylinux2010_x86_64.whl (2.4MB)\n",
            "\u001b[K     |████████████████████████████████| 2.4MB 2.7MB/s \n",
            "\u001b[?25hCollecting python-igraph>=0.8.0\n",
            "\u001b[?25l  Downloading https://files.pythonhosted.org/packages/8b/74/24a1afbf3abaf1d5f393b668192888d04091d1a6d106319661cd4af05406/python_igraph-0.8.2-cp36-cp36m-manylinux2010_x86_64.whl (3.2MB)\n",
            "\u001b[K     |████████████████████████████████| 3.2MB 21.4MB/s \n",
            "\u001b[?25hCollecting texttable>=1.6.2\n",
            "  Downloading https://files.pythonhosted.org/packages/ec/b1/8a1c659ce288bf771d5b1c7cae318ada466f73bd0e16df8d86f27a2a3ee7/texttable-1.6.2-py2.py3-none-any.whl\n",
            "Installing collected packages: texttable, python-igraph, leidenalg\n",
            "Successfully installed leidenalg-0.8.1 python-igraph-0.8.2 texttable-1.6.2\n",
            "Collecting imgaug==0.2.5\n",
            "\u001b[?25l  Downloading https://files.pythonhosted.org/packages/d2/60/a06a48d85a7e9062f5870347a3e3e953da30b37928d43b380c949bca458a/imgaug-0.2.5.tar.gz (562kB)\n",
            "\u001b[K     |████████████████████████████████| 563kB 2.5MB/s \n",
            "\u001b[?25hRequirement already satisfied: scipy in /usr/local/lib/python3.6/dist-packages (from imgaug==0.2.5) (1.4.1)\n",
            "Requirement already satisfied: scikit-image>=0.11.0 in /usr/local/lib/python3.6/dist-packages (from imgaug==0.2.5) (0.16.2)\n",
            "Requirement already satisfied: numpy>=1.7.0 in /usr/local/lib/python3.6/dist-packages (from imgaug==0.2.5) (1.18.5)\n",
            "Requirement already satisfied: six in /usr/local/lib/python3.6/dist-packages (from imgaug==0.2.5) (1.12.0)\n",
            "Requirement already satisfied: pillow>=4.3.0 in /usr/local/lib/python3.6/dist-packages (from scikit-image>=0.11.0->imgaug==0.2.5) (7.0.0)\n",
            "Requirement already satisfied: imageio>=2.3.0 in /usr/local/lib/python3.6/dist-packages (from scikit-image>=0.11.0->imgaug==0.2.5) (2.4.1)\n",
            "Requirement already satisfied: PyWavelets>=0.4.0 in /usr/local/lib/python3.6/dist-packages (from scikit-image>=0.11.0->imgaug==0.2.5) (1.1.1)\n",
            "Requirement already satisfied: networkx>=2.0 in /usr/local/lib/python3.6/dist-packages (from scikit-image>=0.11.0->imgaug==0.2.5) (2.3)\n",
            "Requirement already satisfied: matplotlib!=3.0.0,>=2.0.0 in /usr/local/lib/python3.6/dist-packages (from scikit-image>=0.11.0->imgaug==0.2.5) (3.2.2)\n",
            "Requirement already satisfied: decorator>=4.3.0 in /usr/local/lib/python3.6/dist-packages (from networkx>=2.0->scikit-image>=0.11.0->imgaug==0.2.5) (4.4.2)\n",
            "Requirement already satisfied: pyparsing!=2.0.4,!=2.1.2,!=2.1.6,>=2.0.1 in /usr/local/lib/python3.6/dist-packages (from matplotlib!=3.0.0,>=2.0.0->scikit-image>=0.11.0->imgaug==0.2.5) (2.4.7)\n",
            "Requirement already satisfied: kiwisolver>=1.0.1 in /usr/local/lib/python3.6/dist-packages (from matplotlib!=3.0.0,>=2.0.0->scikit-image>=0.11.0->imgaug==0.2.5) (1.2.0)\n",
            "Requirement already satisfied: cycler>=0.10 in /usr/local/lib/python3.6/dist-packages (from matplotlib!=3.0.0,>=2.0.0->scikit-image>=0.11.0->imgaug==0.2.5) (0.10.0)\n",
            "Requirement already satisfied: python-dateutil>=2.1 in /usr/local/lib/python3.6/dist-packages (from matplotlib!=3.0.0,>=2.0.0->scikit-image>=0.11.0->imgaug==0.2.5) (2.8.1)\n",
            "Building wheels for collected packages: imgaug\n",
            "  Building wheel for imgaug (setup.py) ... \u001b[?25l\u001b[?25hdone\n",
            "  Created wheel for imgaug: filename=imgaug-0.2.5-cp36-none-any.whl size=561439 sha256=7af44ef0405286c257f655591d057db0600b5e4a4d08272f9832848cbd2a12c9\n",
            "  Stored in directory: /root/.cache/pip/wheels/31/48/c8/ca3345e8582a078de94243996e148377ef66fdb845557bae0b\n",
            "Successfully built imgaug\n",
            "Installing collected packages: imgaug\n",
            "  Found existing installation: imgaug 0.2.9\n",
            "    Uninstalling imgaug-0.2.9:\n",
            "      Successfully uninstalled imgaug-0.2.9\n",
            "Successfully installed imgaug-0.2.5\n",
            "Requirement already satisfied: python-igraph in /usr/local/lib/python3.6/dist-packages (0.8.2)\n",
            "Requirement already satisfied: texttable>=1.6.2 in /usr/local/lib/python3.6/dist-packages (from python-igraph) (1.6.2)\n"
          ],
          "name": "stdout"
        }
      ]
    },
    {
      "cell_type": "code",
      "metadata": {
        "id": "mHF3vO6Ub27U",
        "colab_type": "code",
        "colab": {
          "base_uri": "https://localhost:8080/",
          "height": 125
        },
        "outputId": "d4721fc8-02eb-471f-acef-e4321df92901"
      },
      "source": [
        "from google.colab import drive\n",
        "drive.mount('/content/drive')"
      ],
      "execution_count": null,
      "outputs": [
        {
          "output_type": "stream",
          "text": [
            "Go to this URL in a browser: https://accounts.google.com/o/oauth2/auth?client_id=947318989803-6bn6qk8qdgf4n4g3pfee6491hc0brc4i.apps.googleusercontent.com&redirect_uri=urn%3aietf%3awg%3aoauth%3a2.0%3aoob&response_type=code&scope=email%20https%3a%2f%2fwww.googleapis.com%2fauth%2fdocs.test%20https%3a%2f%2fwww.googleapis.com%2fauth%2fdrive%20https%3a%2f%2fwww.googleapis.com%2fauth%2fdrive.photos.readonly%20https%3a%2f%2fwww.googleapis.com%2fauth%2fpeopleapi.readonly\n",
            "\n",
            "Enter your authorization code:\n",
            "··········\n",
            "Mounted at /content/drive\n"
          ],
          "name": "stdout"
        }
      ]
    },
    {
      "cell_type": "code",
      "metadata": {
        "id": "pUv6ll7sbwpN",
        "colab_type": "code",
        "colab": {}
      },
      "source": [
        "import pickle\n",
        "import math\n",
        "import igraph\n",
        "import pandas as pd\n",
        "import numpy as np\n",
        "from igraph import *\n",
        "import matplotlib.pyplot as plt\n",
        "import time\n",
        "import itertools\n",
        "import random\n",
        "from random import sample"
      ],
      "execution_count": null,
      "outputs": []
    },
    {
      "cell_type": "code",
      "metadata": {
        "id": "qIwy6vHpbwpc",
        "colab_type": "code",
        "colab": {}
      },
      "source": [
        "class weightedCommunity:\n",
        "    # Strength of a node\n",
        "    def strength(self, node):\n",
        "        strength = 0\n",
        "        for j in self.G.neighbors(node):\n",
        "            strength += self.G.es[self.G.get_eid(node, j)]['weight']\n",
        "        return strength\n",
        "\n",
        "    # Belonging degree\n",
        "    def belonging_degree(self, node, community):\n",
        "        strength = 0\n",
        "        strength = sum([self.G.es[self.G.get_eid(node, i)]['weight'] for i in self.G.neighbors(node) if i in community])\n",
        "        return strength/self.strength(node)\n",
        "\n",
        "    # Modularity of a graph\n",
        "    def modularity(self):\n",
        "        Q_new = 0\n",
        "        for c in self.communities:\n",
        "            pair_components = list(itertools.combinations(c, 2))\n",
        "            pair_components = sample(pair_components, 1000) # Reducing execution time!\n",
        "            for pair_c in pair_components:\n",
        "                e_id = self.G.get_eid(pair_c[0], pair_c[1], error = False)\n",
        "                weight = self.G.es[e_id]['weight'] if e_id != -1 else 0\n",
        "                Q_new += self.belonging_degree(pair_c[0], c)*self.belonging_degree(pair_c[1], c)*(weight-self.strength(pair_c[0])*self.strength(pair_c[1])/(2*self.L))\n",
        "        \n",
        "        Q_new = Q_new/(2*self.L)\n",
        "            \n",
        "        return Q_new\n",
        "  \n",
        "    def allStrengths(self):\n",
        "        for node in self.G.vs:\n",
        "            self.strengths.append(self.strength(node))\n",
        "    \n",
        "        # Updating graph\n",
        "        self.G.vs['strength'] = self.strengths\n",
        "\n",
        "    def strongestNotLabeled(self):\n",
        "        # Getting indices labeled with 'F'\n",
        "        indices = [i for i in range(len(self.G.vs)) if self.G.vs[i]['label']=='F']\n",
        "        \n",
        "        # Getting strengths for such items\n",
        "        ss = {}\n",
        "        for i in indices:\n",
        "            ss[self.strengths[i]] = i\n",
        "        \n",
        "        # Returning (one of) the strongest node index(es)\n",
        "        return ss[max(ss.keys())]\n",
        "\n",
        "    def nodesRemotion(self, c, min_bel_degree):\n",
        "        old_c = 0\n",
        "        while(old_c != len(c)):\n",
        "            old_c = 0\n",
        "            c_list = [el for el in c]\n",
        "            for node in c_list:\n",
        "                old_c = len(c_list)\n",
        "                if(self.belonging_degree(node, c) < min_bel_degree):\n",
        "                    try:\n",
        "                        c.remove(node)\n",
        "                    except:\n",
        "                        pass\n",
        "        return c\n",
        "\n",
        "    def initialCommunityDetection(self):\n",
        "        c = set()\n",
        "        self.communities.append(c)\n",
        "        # Getting strongest labeled with 'F'\n",
        "        strongest = self.strongestNotLabeled()\n",
        "        \n",
        "        # Adding strongest to community\n",
        "        c.add(strongest)\n",
        "        self.G.vs[strongest]['label'] = 'T'\n",
        "\n",
        "        print(\"Stronger added. Adding neighbors...\")\n",
        "        # Adding strongest's neighbors\n",
        "        for neighbor in self.G.neighbors(strongest):\n",
        "            c.add(neighbor)\n",
        "\n",
        "        # Until convergence\n",
        "        # if belonging degree of the community nodes is lower than 0.5, we remove them.\n",
        "        print(\"Removing nodes < min_bel_degree...\")\n",
        "        c = self.nodesRemotion(c, self.min_bel_degree)\n",
        "\n",
        "        return c\n",
        "\n",
        "    def find_initial_community_neighbors(self, c):\n",
        "        ### Finding initial community neighbors\n",
        "        c_neighbors = set()\n",
        "\n",
        "        for node in c:\n",
        "            for nb in self.G.neighbors(node):\n",
        "                c_neighbors.add(nb)\n",
        "        return c_neighbors\n",
        "\n",
        "    def define_nu_nlu(self, c, c_neighbors):\n",
        "        \"\"\"### Find Nu (b > 0.5) and Nlu (0.4 < b < 0.5) starting from the set of neighbors\"\"\"\n",
        "        nu = set()\n",
        "        nlu = set()\n",
        "\n",
        "        for nb in c_neighbors:\n",
        "          # Nu set: neighbor with belonging degree >= min_bel_degree\n",
        "          if(self.belonging_degree(nb, c) >= self.min_bel_degree):\n",
        "            nu.add(nb)\n",
        "          # Nlu set neighbor with threshold < belonging degree < min_bel_degree\n",
        "          elif(self.belonging_degree(nb, c) > self.threshold_bel_degree): # to be parametrized\n",
        "            nlu.add(nb)\n",
        "            \n",
        "        return nu, nlu\n",
        "\n",
        "    def add_nlu_to_community(self, c, nlu):\n",
        "        while len(nlu) > 0:\n",
        "            print(\"NLU size: \" + str(len(nlu)))\n",
        "            Q = self.modularity() # Necessario calcolarlo qua perché potrebbero \n",
        "                                        # esserci state modifiche alla community nei \n",
        "                                        # passaggi precedenti\n",
        "            candidate = nlu.pop()\n",
        "            c.add(candidate)\n",
        "            Q_new = self.modularity() #INSERT LIST OF COMMUNITES\n",
        "            if (Q_new > Q):\n",
        "                Q = Q_new\n",
        "            else:\n",
        "                c.remove(candidate)\n",
        "        return c\n",
        "\n",
        "    def expandCommunity(self, c):\n",
        "        \"\"\"##  Expanding the community\n",
        "        \"\"\"\n",
        "        c_old = 0\n",
        "        nu, nlu = set(), set()\n",
        "        \n",
        "        while(c_old != len(c)): # While it adds nodes belonging to nlu in the community\n",
        "            print(\"nlu_size: \" + str(len(nlu)))\n",
        "            while(c_old != len(c)): # While it adds nodes belonging to nu in the community\n",
        "                c_neighbors = self.find_initial_community_neighbors(c)\n",
        "                print(\"Initial community neighbors found\")\n",
        "                \n",
        "                # Computing nu and nlu\n",
        "                nu, nlu = self.define_nu_nlu(c, c_neighbors)\n",
        "\n",
        "                # Add Nu nodes to initial community and return to neighbors search\n",
        "                c_old = len(c)\n",
        "                c = c.union(nu)\n",
        "\n",
        "                # Asserting size\n",
        "                if(len(c) != len(c) + len(nu) - len(c.intersection(nu))):\n",
        "                    print('Incompatible sizes')\n",
        "                    return -1\n",
        "            \n",
        "            \n",
        "            # Add the nodes of Nlu to the community only if their presence increases the community modularity Q0\n",
        "            c_old = len(c)\n",
        "            c = self.add_nlu_to_community(c, nlu)\n",
        "\n",
        "        # Mark the community nodes with 'T' label\n",
        "        self.G.vs['label'] = [v['label'] if not v.index in c else 'T' for v in self.G.vs]\n",
        "        \n",
        "        # Updating T label counter\n",
        "        self.T = len([v for v in self.G.vs['label'] if v == 'T'])\n",
        "        \n",
        "        return c\n",
        "\n",
        "    def getCommunities(self):\n",
        "        return self.communities\n",
        "    \n",
        "    def __init__(self, G, min_bel_degree, threshold_bel_degree):\n",
        "        self.G = G\n",
        "        self.N = len(self.G.vs)\n",
        "        self.L = len(self.G.es)\n",
        "        self.min_bel_degree = min_bel_degree\n",
        "        self.threshold_bel_degree = threshold_bel_degree\n",
        "        self.communities = []\n",
        "        self.strengths = []\n",
        "        self.T = 0\n",
        "        \n",
        "        # Labels\n",
        "        self.G.vs['label'] = ['F']*self.N\n",
        "    \n",
        "    def computeCommunity(self):\n",
        "        if(len(self.communities) == 0): # Just the 1st time\n",
        "            # Strenghts\n",
        "            self.allStrengths()\n",
        "            print(\"Strengths added\")\n",
        "\n",
        "        # Initial community detection\n",
        "        c = self.initialCommunityDetection()\n",
        "        print(\"Initial community detected. Expanding...\")\n",
        "\n",
        "        # Community expansion\n",
        "        c = self.expandCommunity(c)\n",
        "        print(\"Community expanded\")\n",
        "        print(\"Covered nodes: \" + str(self.T))\n",
        "        \n",
        "    def computeCommunities(self):\n",
        "        while(self.N != self.T):\n",
        "            self.computeCommunity()\n",
        "        return self.getCommunities()\n",
        "            \n"
      ],
      "execution_count": null,
      "outputs": []
    },
    {
      "cell_type": "code",
      "metadata": {
        "id": "nQPeYzpNbwpm",
        "colab_type": "code",
        "colab": {}
      },
      "source": [
        "def load_obj(name):\n",
        "    with open('/content/drive/Shared drives/SNA/NetworkScience/AcademicGraph/data-collection-2020_sabiu/data/obj/' + name + '.pkl', 'rb') as f:\n",
        "        return pickle.load(f)\n",
        "\n",
        "def save_obj(obj, name):\n",
        "    with open('/content/drive/Shared drives/SNA/NetworkScience/AcademicGraph/data-collection-2020_sabiu/data/obj/'+ name + '.pkl', 'wb') as f:\n",
        "        pickle.dump(obj, f, pickle.HIGHEST_PROTOCOL)"
      ],
      "execution_count": null,
      "outputs": []
    },
    {
      "cell_type": "code",
      "metadata": {
        "id": "McbDbJYpbwpz",
        "colab_type": "code",
        "colab": {}
      },
      "source": [
        "g = load_obj(\"graph\")\n",
        "components = g.clusters(mode=\"weak\")\n",
        "biggerSubG = components.subgraph(22) # 22 = Bigger connected component index in components list\n",
        "g = biggerSubG"
      ],
      "execution_count": null,
      "outputs": []
    },
    {
      "cell_type": "code",
      "metadata": {
        "id": "7iaShV4nbwqA",
        "colab_type": "code",
        "colab": {}
      },
      "source": [
        "comm = weightedCommunity(g, 0.50, 0.50)"
      ],
      "execution_count": null,
      "outputs": []
    },
    {
      "cell_type": "code",
      "metadata": {
        "scrolled": true,
        "id": "jeT3b4AWbwqM",
        "colab_type": "code",
        "colab": {}
      },
      "source": [
        "comm.computeCommunities()"
      ],
      "execution_count": null,
      "outputs": []
    },
    {
      "cell_type": "code",
      "metadata": {
        "id": "FVr6DXVVbwtM",
        "colab_type": "code",
        "colab": {}
      },
      "source": [
        "comms = comm.getCommunities()"
      ],
      "execution_count": null,
      "outputs": []
    },
    {
      "cell_type": "code",
      "metadata": {
        "id": "7OJEmbOvbwtV",
        "colab_type": "code",
        "colab": {}
      },
      "source": [
        "# Stop"
      ],
      "execution_count": null,
      "outputs": []
    },
    {
      "cell_type": "code",
      "metadata": {
        "id": "gmeuR2pRbwtX",
        "colab_type": "code",
        "colab": {
          "base_uri": "https://localhost:8080/",
          "height": 34
        },
        "outputId": "f7364cee-007f-421a-98a9-9304bcfcf87d"
      },
      "source": [
        "sum([len(com) for com in comms])"
      ],
      "execution_count": null,
      "outputs": [
        {
          "output_type": "execute_result",
          "data": {
            "text/plain": [
              "29782"
            ]
          },
          "metadata": {
            "tags": []
          },
          "execution_count": 20
        }
      ]
    },
    {
      "cell_type": "code",
      "metadata": {
        "id": "FYHzF5Qvbwtc",
        "colab_type": "code",
        "colab": {}
      },
      "source": [
        "g.communities = []\n",
        "for com in comms:\n",
        "  g.communities.append(com)\n"
      ],
      "execution_count": null,
      "outputs": []
    },
    {
      "cell_type": "code",
      "metadata": {
        "id": "Epjrh7PWhmW_",
        "colab_type": "code",
        "colab": {}
      },
      "source": [
        "from cdlib import evaluation\n",
        "from cdlib.utils import convert_graph_formats\n",
        "import networkx as nx"
      ],
      "execution_count": null,
      "outputs": []
    },
    {
      "cell_type": "code",
      "metadata": {
        "id": "c2IeV0PiiD1b",
        "colab_type": "code",
        "colab": {}
      },
      "source": [
        "nxG = convert_graph_formats(biggerSubG, nx.Graph, directed=None)\n",
        "\n",
        "intEdgDensity = evaluation.internal_edge_density(nxG, g).score\n",
        "avgNodeDegree = evaluation.average_internal_degree(nxG, g).score\n",
        "modularity = evaluation.modularity_density(nxG, g).score\n",
        "conductance = evaluation.conductance(nxG, g).score"
      ],
      "execution_count": null,
      "outputs": []
    },
    {
      "cell_type": "code",
      "metadata": {
        "id": "lrqwRiSyjMHJ",
        "colab_type": "code",
        "colab": {
          "base_uri": "https://localhost:8080/",
          "height": 34
        },
        "outputId": "e3fbaf96-0f3b-4338-9a91-ceedb394b659"
      },
      "source": [
        "intEdgDensity"
      ],
      "execution_count": null,
      "outputs": [
        {
          "output_type": "execute_result",
          "data": {
            "text/plain": [
              "0.05744160966112636"
            ]
          },
          "metadata": {
            "tags": []
          },
          "execution_count": 31
        }
      ]
    },
    {
      "cell_type": "code",
      "metadata": {
        "id": "0M1ngcdMjR8H",
        "colab_type": "code",
        "colab": {
          "base_uri": "https://localhost:8080/",
          "height": 34
        },
        "outputId": "1f2b7d56-7ef7-4236-94b1-7dcaa69f5a69"
      },
      "source": [
        "avgNodeDegree"
      ],
      "execution_count": null,
      "outputs": [
        {
          "output_type": "execute_result",
          "data": {
            "text/plain": [
              "2.2267896901604707"
            ]
          },
          "metadata": {
            "tags": []
          },
          "execution_count": 32
        }
      ]
    },
    {
      "cell_type": "code",
      "metadata": {
        "id": "AZar5kgnjTE5",
        "colab_type": "code",
        "colab": {
          "base_uri": "https://localhost:8080/",
          "height": 34
        },
        "outputId": "57031c08-122b-4e2f-8fc4-64f693c4a2b6"
      },
      "source": [
        "modularity"
      ],
      "execution_count": null,
      "outputs": [
        {
          "output_type": "execute_result",
          "data": {
            "text/plain": [
              "832.0744601741545"
            ]
          },
          "metadata": {
            "tags": []
          },
          "execution_count": 33
        }
      ]
    },
    {
      "cell_type": "code",
      "metadata": {
        "id": "tNyNOeWVjUE7",
        "colab_type": "code",
        "colab": {
          "base_uri": "https://localhost:8080/",
          "height": 34
        },
        "outputId": "543dc73d-1ce8-48fa-ddc7-3f99f64ac7aa"
      },
      "source": [
        "conductance"
      ],
      "execution_count": null,
      "outputs": [
        {
          "output_type": "execute_result",
          "data": {
            "text/plain": [
              "0.06497096584233007"
            ]
          },
          "metadata": {
            "tags": []
          },
          "execution_count": 34
        }
      ]
    },
    {
      "cell_type": "markdown",
      "metadata": {
        "id": "2yKqaEisjljF",
        "colab_type": "text"
      },
      "source": [
        "### Comparison"
      ]
    },
    {
      "cell_type": "code",
      "metadata": {
        "id": "PT4yIxyzj12I",
        "colab_type": "code",
        "colab": {}
      },
      "source": [
        "from cdlib import algorithms"
      ],
      "execution_count": null,
      "outputs": []
    },
    {
      "cell_type": "code",
      "metadata": {
        "id": "gOP2Rnw7jyTQ",
        "colab_type": "code",
        "colab": {}
      },
      "source": [
        "kCli = algorithms.kclique(biggerSubG, 3)"
      ],
      "execution_count": null,
      "outputs": []
    },
    {
      "cell_type": "code",
      "metadata": {
        "id": "jG0OQ3ANj34Z",
        "colab_type": "code",
        "colab": {}
      },
      "source": [
        "louv = algorithms.louvain(biggerSubG)"
      ],
      "execution_count": null,
      "outputs": []
    },
    {
      "cell_type": "code",
      "metadata": {
        "id": "RlQdXrnFj4Gc",
        "colab_type": "code",
        "colab": {}
      },
      "source": [
        "lab = algorithms.label_propagation(biggerSubG)"
      ],
      "execution_count": null,
      "outputs": []
    },
    {
      "cell_type": "code",
      "metadata": {
        "id": "2hTmcFdbrKz7",
        "colab_type": "code",
        "colab": {}
      },
      "source": [
        "dem = load_obj(\"demon\")"
      ],
      "execution_count": null,
      "outputs": []
    },
    {
      "cell_type": "markdown",
      "metadata": {
        "id": "h680a11Ws_f8",
        "colab_type": "text"
      },
      "source": [
        "# Evaluation"
      ]
    },
    {
      "cell_type": "code",
      "metadata": {
        "id": "7zfHqgzsvmPS",
        "colab_type": "code",
        "colab": {}
      },
      "source": [
        "labels = ['Louvains', 'k-Clique', 'Demon', 'Custom']"
      ],
      "execution_count": null,
      "outputs": []
    },
    {
      "cell_type": "code",
      "metadata": {
        "id": "-5WsU_1huBQI",
        "colab_type": "code",
        "colab": {
          "base_uri": "https://localhost:8080/",
          "height": 238
        },
        "outputId": "0dafc000-9421-47d1-99b5-3d79b85b5983"
      },
      "source": [
        "coms = [louv, kCli, dem, g]\n",
        "\n",
        "d_evaluation = {}\n",
        "\n",
        "for i, com in enumerate(coms):\n",
        "  d_evaluation[i] = evaluation.f1(lab, com)\n",
        "  "
      ],
      "execution_count": null,
      "outputs": [
        {
          "output_type": "error",
          "ename": "NameError",
          "evalue": "ignored",
          "traceback": [
            "\u001b[0;31m---------------------------------------------------------------------------\u001b[0m",
            "\u001b[0;31mNameError\u001b[0m                                 Traceback (most recent call last)",
            "\u001b[0;32m<ipython-input-1-84c849655bc3>\u001b[0m in \u001b[0;36m<module>\u001b[0;34m()\u001b[0m\n\u001b[0;32m----> 1\u001b[0;31m \u001b[0mcoms\u001b[0m \u001b[0;34m=\u001b[0m \u001b[0;34m[\u001b[0m\u001b[0mlouv\u001b[0m\u001b[0;34m,\u001b[0m \u001b[0mkCli\u001b[0m\u001b[0;34m,\u001b[0m \u001b[0mdem\u001b[0m\u001b[0;34m,\u001b[0m \u001b[0mg\u001b[0m\u001b[0;34m]\u001b[0m\u001b[0;34m\u001b[0m\u001b[0;34m\u001b[0m\u001b[0m\n\u001b[0m\u001b[1;32m      2\u001b[0m \u001b[0;34m\u001b[0m\u001b[0m\n\u001b[1;32m      3\u001b[0m \u001b[0md_evaluation\u001b[0m \u001b[0;34m=\u001b[0m \u001b[0;34m{\u001b[0m\u001b[0;34m}\u001b[0m\u001b[0;34m\u001b[0m\u001b[0;34m\u001b[0m\u001b[0m\n\u001b[1;32m      4\u001b[0m \u001b[0;34m\u001b[0m\u001b[0m\n\u001b[1;32m      5\u001b[0m \u001b[0;32mfor\u001b[0m \u001b[0mi\u001b[0m\u001b[0;34m,\u001b[0m \u001b[0mcom\u001b[0m \u001b[0;32min\u001b[0m \u001b[0menumerate\u001b[0m\u001b[0;34m(\u001b[0m\u001b[0mcoms\u001b[0m\u001b[0;34m)\u001b[0m\u001b[0;34m:\u001b[0m\u001b[0;34m\u001b[0m\u001b[0;34m\u001b[0m\u001b[0m\n",
            "\u001b[0;31mNameError\u001b[0m: name 'louv' is not defined"
          ]
        }
      ]
    },
    {
      "cell_type": "code",
      "metadata": {
        "id": "a3pq5g7CvzLf",
        "colab_type": "code",
        "colab": {
          "base_uri": "https://localhost:8080/",
          "height": 70
        },
        "outputId": "e84f4882-80e2-4bbf-9f6f-2ca604213332"
      },
      "source": [
        "df = pd.DataFrame(d_evaluation)\n",
        "df.columns = ['Louvains', 'k-Clique', 'Demon', 'Custom']\n",
        "\n",
        "print(df)"
      ],
      "execution_count": null,
      "outputs": [
        {
          "output_type": "stream",
          "text": [
            "   Louvains  k-Clique     Demon    Custom\n",
            "0   0.00024   0.49206  0.352214  0.113436\n",
            "1       NaN       NaN       NaN       NaN\n"
          ],
          "name": "stdout"
        }
      ]
    },
    {
      "cell_type": "code",
      "metadata": {
        "id": "davfoMRsvUsA",
        "colab_type": "code",
        "colab": {}
      },
      "source": [
        "d_evaluation_omega = {}\n",
        "\n",
        "for i, com in enumerate(coms):\n",
        "  d_evaluation_omega[i] = evaluation.omega(lab, com)"
      ],
      "execution_count": null,
      "outputs": []
    },
    {
      "cell_type": "code",
      "metadata": {
        "id": "x1qsPRqn3Zfh",
        "colab_type": "code",
        "colab": {}
      },
      "source": [
        "df = pd.DataFrame(d_evaluation_omega)\n",
        "df.columns = ['Louvains', 'k-Clique', 'Demon', 'Custom']\n",
        "\n",
        "print(df)"
      ],
      "execution_count": null,
      "outputs": []
    },
    {
      "cell_type": "code",
      "metadata": {
        "id": "0FQkbC6N3dGI",
        "colab_type": "code",
        "colab": {}
      },
      "source": [
        ""
      ],
      "execution_count": null,
      "outputs": []
    }
  ]
}