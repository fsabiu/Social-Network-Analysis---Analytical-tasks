{
 "cells": [
  {
   "cell_type": "code",
   "execution_count": 1,
   "metadata": {
    "tags": [
     "outputPrepend"
    ]
   },
   "outputs": [
    {
     "output_type": "stream",
     "name": "stdout",
     "text": "tarted\n  Building wheel for linkpred (setup.py): finished with status 'done'\n  Created wheel for linkpred: filename=linkpred-0.5.1-py3-none-any.whl size=28755 sha256=243f73341e4997d887027a71e47daa0541ebc2ee6d3ee6fa2ff01700e22296d1\n  Stored in directory: c:\\users\\francesco\\appdata\\local\\pip\\cache\\wheels\\c2\\2f\\16\\880dc3ca93fd3fb79ba9c5a3d675cbbcc7479736deeacbb876\n  Building wheel for smokesignal (setup.py): started\n  Building wheel for smokesignal (setup.py): finished with status 'done'\n  Created wheel for smokesignal: filename=smokesignal-0.7.0-py3-none-any.whl size=6037 sha256=a8cb5b683414803a16eaeb28cc07bc0c39f52c096e26573ea6df6ce9c624ae01\n  Stored in directory: c:\\users\\francesco\\appdata\\local\\pip\\cache\\wheels\\1d\\11\\6f\\e19c0dee07d3c6a9cf604e2360edcb41877002a94283c9911b\nSuccessfully built linkpred smokesignal\nInstalling collected packages: smokesignal, linkpred\nSuccessfully installed linkpred-0.5.1 smokesignal-0.7.0\nRequirement already satisfied: networkx in c:\\users\\francesco\\appdata\\local\\programs\\python\\python37\\lib\\site-packages (2.4)\nRequirement already satisfied: decorator>=4.3.0 in c:\\users\\francesco\\appdata\\local\\programs\\python\\python37\\lib\\site-packages (from networkx) (4.4.2)\nCollecting folium==0.2.1\n  Downloading folium-0.2.1.tar.gz (69 kB)\nRequirement already satisfied: Jinja2 in c:\\users\\francesco\\appdata\\roaming\\python\\python37\\site-packages (from folium==0.2.1) (2.11.2)\nRequirement already satisfied: MarkupSafe>=0.23 in c:\\users\\francesco\\appdata\\roaming\\python\\python37\\site-packages (from Jinja2->folium==0.2.1) (1.1.1)\nBuilding wheels for collected packages: folium\n  Building wheel for folium (setup.py): started\n  Building wheel for folium (setup.py): finished with status 'done'\n  Created wheel for folium: filename=folium-0.2.1-py3-none-any.whl size=79978 sha256=793eb975537e947c0498f4f1e5b012c438491e0816a01739d53a505ff8f4de35\n  Stored in directory: c:\\users\\francesco\\appdata\\local\\pip\\cache\\wheels\\9a\\f0\\3a\\3f79a6914ff5affaf50cabad60c9f4d565283283c97f0bdccf\nSuccessfully built folium\nInstalling collected packages: folium\nSuccessfully installed folium-0.2.1\nCollecting cdlib\n  Downloading cdlib-0.1.8-py3-none-any.whl (113 kB)\nCollecting mock==3.0.*\n  Downloading mock-3.0.5-py2.py3-none-any.whl (25 kB)\nCollecting sphinx==1.7.5\n  Downloading Sphinx-1.7.5-py2.py3-none-any.whl (1.9 MB)\nCollecting eva-lcdERROR: linkpred 0.5.1 has requirement networkx>=2.4, but you'll have networkx 2.3 which is incompatible.\n\n  Downloading eva_lcd-0.1.0-py3-none-any.whl (8.9 kB)\nCollecting sphinx-rtd-theme==0.4.*\n  Downloading sphinx_rtd_theme-0.4.3-py2.py3-none-any.whl (6.4 MB)\nCollecting python-louvain==0.13\n  Downloading python-louvain-0.13.tar.gz (18 kB)\nCollecting omega-index-py3\n  Downloading omega_index_py3-0.3-py3-none-any.whl (2.5 kB)\nCollecting seaborn>=0.9.*\n  Downloading seaborn-0.10.1-py3-none-any.whl (215 kB)\nCollecting demon>=2.0.*\n  Downloading demon-2.0.5-py3-none-any.whl (5.4 kB)\nCollecting nf1\n  Downloading nf1-0.0.3-py3-none-any.whl (7.9 kB)\nRequirement already satisfied: pandas>=0.24 in c:\\users\\francesco\\appdata\\local\\programs\\python\\python37\\lib\\site-packages (from cdlib) (1.0.4)\nRequirement already satisfied: scikit-learn>=0.21.* in c:\\users\\francesco\\appdata\\local\\programs\\python\\python37\\lib\\site-packages (from cdlib) (0.23.1)\nCollecting pquality==0.0.7\n  Downloading pquality-0.0.7-py3-none-any.whl (3.5 kB)\nRequirement already satisfied: tqdm>=4.20.* in c:\\users\\francesco\\appdata\\local\\programs\\python\\python37\\lib\\site-packages (from cdlib) (4.46.1)\nRequirement already satisfied: future>=0.16.* in c:\\users\\francesco\\appdata\\local\\programs\\python\\python37\\lib\\site-packages (from cdlib) (0.18.2)\nCollecting pulp==1.6.*\n  Downloading PuLP-1.6.10.zip (13.6 MB)\nCollecting bimlpa\n  Downloading bimlpa-0.1.2-py3-none-any.whl (7.0 kB)\nRequirement already satisfied: matplotlib>=3.0.* in c:\\users\\francesco\\appdata\\local\\programs\\python\\python37\\lib\\site-packages (from cdlib) (3.2.2)\nCollecting karateclub\n  Downloading karateclub-1.0.8.tar.gz (39 kB)\nCollecting networkx<2.4,>=2.2\n  Downloading networkx-2.3.zip (1.7 MB)\nRequirement already satisfied: numpy>=1.15.* in c:\\users\\francesco\\appdata\\local\\programs\\python\\python37\\lib\\site-packages (from cdlib) (1.18.5)\nRequirement already satisfied: scipy>=1.3.* in c:\\users\\francesco\\appdata\\local\\programs\\python\\python37\\lib\\site-packages (from cdlib) (1.4.1)\nRequirement already satisfied: six in c:\\users\\francesco\\appdata\\local\\programs\\python\\python37\\lib\\site-packages (from mock==3.0.*->cdlib) (1.15.0)\nRequirement already satisfied: Jinja2>=2.3 in c:\\users\\francesco\\appdata\\roaming\\python\\python37\\site-packages (from sphinx==1.7.5->cdlib) (2.11.2)\nRequirement already satisfied: Pygments>=2.0 in c:\\users\\francesco\\appdata\\roaming\\python\\python37\\site-packages (from sphinx==1.7.5->cdlib) (2.6.1)\nRequirement already satisfied: setuptools in c:\\users\\francesco\\appdata\\local\\programs\\python\\python37\\lib\\site-packages (from sphinx==1.7.5->cdlib) (41.2.0)\nCollecting imagesize\n  Downloading imagesize-1.2.0-py2.py3-none-any.whl (4.8 kB)\nRequirement already satisfied: docutils>=0.11 in c:\\users\\francesco\\appdata\\local\\programs\\python\\python37\\lib\\site-packages (from sphinx==1.7.5->cdlib) (0.15.2)\nRequirement already satisfied: packaging in c:\\users\\francesco\\appdata\\local\\programs\\python\\python37\\lib\\site-packages (from sphinx==1.7.5->cdlib) (20.4)\nCollecting alabaster<0.8,>=0.7\n  Downloading alabaster-0.7.12-py2.py3-none-any.whl (14 kB)\nCollecting babel!=2.0,>=1.3\n  Downloading Babel-2.8.0-py2.py3-none-any.whl (8.6 MB)\nRequirement already satisfied: requests>=2.0.0 in c:\\users\\francesco\\appdata\\local\\programs\\python\\python37\\lib\\site-packages (from sphinx==1.7.5->cdlib) (2.24.0)\nCollecting sphinxcontrib-websupport\n  Downloading sphinxcontrib_websupport-1.2.3-py2.py3-none-any.whl (39 kB)\nCollecting snowballstemmer>=1.1\n  Downloading snowballstemmer-2.0.0-py2.py3-none-any.whl (97 kB)\nRequirement already satisfied: colorama>=0.3.5; sys_platform == \"win32\" in c:\\users\\francesco\\appdata\\local\\programs\\python\\python37\\lib\\site-packages (from sphinx==1.7.5->cdlib) (0.4.3)\nRequirement already satisfied: python-dateutil>=2.6.1 in c:\\users\\francesco\\appdata\\local\\programs\\python\\python37\\lib\\site-packages (from pandas>=0.24->cdlib) (2.8.1)\nRequirement already satisfied: pytz>=2017.2 in c:\\users\\francesco\\appdata\\local\\programs\\python\\python37\\lib\\site-packages (from pandas>=0.24->cdlib) (2020.1)\nRequirement already satisfied: joblib>=0.11 in c:\\users\\francesco\\appdata\\local\\programs\\python\\python37\\lib\\site-packages (from scikit-learn>=0.21.*->cdlib) (0.15.1)\nRequirement already satisfied: threadpoolctl>=2.0.0 in c:\\users\\francesco\\appdata\\local\\programs\\python\\python37\\lib\\site-packages (from scikit-learn>=0.21.*->cdlib) (2.1.0)\nRequirement already satisfied: pyparsing>=2.0.1 in c:\\users\\francesco\\appdata\\local\\programs\\python\\python37\\lib\\site-packages (from pulp==1.6.*->cdlib) (2.4.7)\nRequirement already satisfied: cycler>=0.10 in c:\\users\\francesco\\appdata\\local\\programs\\python\\python37\\lib\\site-packages (from matplotlib>=3.0.*->cdlib) (0.10.0)\nRequirement already satisfied: kiwisolver>=1.0.1 in c:\\users\\francesco\\appdata\\local\\programs\\python\\python37\\lib\\site-packages (from matplotlib>=3.0.*->cdlib) (1.2.0)\nRequirement already satisfied: sklearn in c:\\users\\francesco\\appdata\\local\\programs\\python\\python37\\lib\\site-packages (from karateclub->cdlib) (0.0)\nCollecting pygsp\n  Downloading PyGSP-0.5.1-py2.py3-none-any.whl (1.8 MB)\nRequirement already satisfied: gensim in c:\\users\\francesco\\appdata\\local\\programs\\python\\python37\\lib\\site-packages (from karateclub->cdlib) (3.8.3)\nRequirement already satisfied: decorator>=4.3.0 in c:\\users\\francesco\\appdata\\local\\programs\\python\\python37\\lib\\site-packages (from networkx<2.4,>=2.2->cdlib) (4.4.2)\nRequirement already satisfied: MarkupSafe>=0.23 in c:\\users\\francesco\\appdata\\roaming\\python\\python37\\site-packages (from Jinja2>=2.3->sphinx==1.7.5->cdlib) (1.1.1)\nRequirement already satisfied: urllib3!=1.25.0,!=1.25.1,<1.26,>=1.21.1 in c:\\users\\francesco\\appdata\\local\\programs\\python\\python37\\lib\\site-packages (from requests>=2.0.0->sphinx==1.7.5->cdlib) (1.25.9)\nRequirement already satisfied: idna<3,>=2.5 in c:\\users\\francesco\\appdata\\local\\programs\\python\\python37\\lib\\site-packages (from requests>=2.0.0->sphinx==1.7.5->cdlib) (2.9)\nRequirement already satisfied: certifi>=2017.4.17 in c:\\users\\francesco\\appdata\\local\\programs\\python\\python37\\lib\\site-packages (from requests>=2.0.0->sphinx==1.7.5->cdlib) (2020.4.5.2)\nRequirement already satisfied: chardet<4,>=3.0.2 in c:\\users\\francesco\\appdata\\local\\programs\\python\\python37\\lib\\site-packages (from requests>=2.0.0->sphinx==1.7.5->cdlib) (3.0.4)\nRequirement already satisfied: smart-open>=1.8.1 in c:\\users\\francesco\\appdata\\local\\programs\\python\\python37\\lib\\site-packages (from gensim->karateclub->cdlib) (2.0.0)\nRequirement already satisfied: Cython==0.29.14 in c:\\users\\francesco\\appdata\\local\\programs\\python\\python37\\lib\\site-packages (from gensim->karateclub->cdlib) (0.29.14)\nRequirement already satisfied: boto in c:\\users\\francesco\\appdata\\local\\programs\\python\\python37\\lib\\site-packages (from smart-open>=1.8.1->gensim->karateclub->cdlib) (2.49.0)\nRequirement already satisfied: boto3 in c:\\users\\francesco\\appdata\\local\\programs\\python\\python37\\lib\\site-packages (from smart-open>=1.8.1->gensim->karateclub->cdlib) (1.14.5)\nRequirement already satisfied: jmespath<1.0.0,>=0.7.1 in c:\\users\\francesco\\appdata\\local\\programs\\python\\python37\\lib\\site-packages (from boto3->smart-open>=1.8.1->gensim->karateclub->cdlib) (0.10.0)\nRequirement already satisfied: botocore<1.18.0,>=1.17.5 in c:\\users\\francesco\\appdata\\local\\programs\\python\\python37\\lib\\site-packages (from boto3->smart-open>=1.8.1->gensim->karateclub->cdlib) (1.17.5)\nRequirement already satisfied: s3transfer<0.4.0,>=0.3.0 in c:\\users\\francesco\\appdata\\local\\programs\\python\\python37\\lib\\site-packages (from boto3->smart-open>=1.8.1->gensim->karateclub->cdlib) (0.3.3)\nBuilding wheels for collected packages: python-louvain, pulp, karateclub, networkx\n  Building wheel for python-louvain (setup.py): started\n  Building wheel for python-louvain (setup.py): finished with status 'done'\n  Created wheel for python-louvain: filename=python_louvain-0.13-py3-none-any.whl size=9230 sha256=f585901034de25e1a50fb660ca37635f1b1e22c9e0b0ecfe39a4cb6680d68264\n  Stored in directory: c:\\users\\francesco\\appdata\\local\\pip\\cache\\wheels\\dd\\6b\\3b\\87539deabac63a68ec34be2867308907d0544e11ba4d4e728d\n  Building wheel for pulp (setup.py): started\n  Building wheel for pulp (setup.py): finished with status 'done'\n  Created wheel for pulp: filename=PuLP-1.6.10-py3-none-any.whl size=12269906 sha256=bc7fdfdb09b8d0ab2886fc399a6eac36de23a1de2478cfaebae1a11f1980223a\n  Stored in directory: c:\\users\\francesco\\appdata\\local\\pip\\cache\\wheels\\27\\85\\c2\\a49bec32316b24ee30fad73fe500547862029b107fefee46e0\n  Building wheel for karateclub (setup.py): started\n  Building wheel for karateclub (setup.py): finished with status 'done'\n  Created wheel for karateclub: filename=karateclub-1.0.8-py3-none-any.whl size=68250 sha256=25bda5b70c5a2f8f1a1f1f871a94b8a712e6ca2710f34b6b41c843baf43c99f8\n  Stored in directory: c:\\users\\francesco\\appdata\\local\\pip\\cache\\wheels\\49\\37\\ad\\30570cf2e06d01c2efc9109b299a171e142de6af33d61713c4\n  Building wheel for networkx (setup.py): started\n  Building wheel for networkx (setup.py): finished with status 'done'\n  Created wheel for networkx: filename=networkx-2.3-py2.py3-none-any.whl size=1555997 sha256=c9e71613e9975dae3dcc5ea4b409ff7e4a5775285d7e31480be1244c1ec0e7f8\n  Stored in directory: c:\\users\\francesco\\appdata\\local\\pip\\cache\\wheels\\44\\e6\\b8\\4efaab31158e9e9ca9ed80b11f6b11130bac9a9672b3cbbeaf\nSuccessfully built python-louvain pulp karateclub networkx\nInstalling collected packages: mock, imagesize, alabaster, babel, sphinxcontrib-websupport, snowballstemmer, sphinx, networkx, eva-lcd, sphinx-rtd-theme, python-louvain, omega-index-py3, seaborn, demon, nf1, pquality, pulp, bimlpa, pygsp, karateclub, cdlib\n  Attempting uninstall: networkx\n    Found existing installation: networkx 2.4\n    Uninstalling networkx-2.4:\n      Successfully uninstalled networkx-2.4\nSuccessfully installed alabaster-0.7.12 babel-2.8.0 bimlpa-0.1.2 cdlib-0.1.8 demon-2.0.5 eva-lcd-0.1.0 imagesize-1.2.0 karateclub-1.0.8 mock-3.0.5 networkx-2.3 nf1-0.0.3 omega-index-py3-0.3 pquality-0.0.7 pulp-1.6.10 pygsp-0.5.1 python-louvain-0.13 seaborn-0.10.1 snowballstemmer-2.0.0 sphinx-1.7.5 sphinx-rtd-theme-0.4.3 sphinxcontrib-websupport-1.2.3\nCollecting leidenalg\n  Downloading leidenalg-0.8.1-cp37-cp37m-win_amd64.whl (391 kB)\nRequirement already satisfied: python-igraph>=0.8.0 in c:\\users\\francesco\\appdata\\local\\programs\\python\\python37\\lib\\site-packages (from leidenalg) (0.8.2)\nRequirement already satisfied: texttable>=1.6.2 in c:\\users\\francesco\\appdata\\local\\programs\\python\\python37\\lib\\site-packages (from python-igraph>=0.8.0->leidenalg) (1.6.2)\nInstalling collected packages: leidenalg\nSuccessfully installed leidenalg-0.8.1\nCollecting imgaug==0.2.5\n  Downloading imgaug-0.2.5.tar.gz (562 kB)\nRequirement already satisfied: scipy in c:\\users\\francesco\\appdata\\local\\programs\\python\\python37\\lib\\site-packages (from imgaug==0.2.5) (1.4.1)\nCollecting scikit-image>=0.11.0\n  Downloading scikit_image-0.17.2-cp37-cp37m-win_amd64.whl (11.5 MB)\nRequirement already satisfied: numpy>=1.7.0 in c:\\users\\francesco\\appdata\\local\\programs\\python\\python37\\lib\\site-packages (from imgaug==0.2.5) (1.18.5)\nRequirement already satisfied: six in c:\\users\\francesco\\appdata\\local\\programs\\python\\python37\\lib\\site-packages (from imgaug==0.2.5) (1.15.0)\nCollecting PyWavelets>=1.1.1\n  Downloading PyWavelets-1.1.1-cp37-cp37m-win_amd64.whl (4.2 MB)\nRequirement already satisfied: matplotlib!=3.0.0,>=2.0.0 in c:\\users\\francesco\\appdata\\local\\programs\\python\\python37\\lib\\site-packages (from scikit-image>=0.11.0->imgaug==0.2.5) (3.2.2)\nRequirement already satisfied: pillow!=7.1.0,!=7.1.1,>=4.3.0 in c:\\users\\francesco\\appdata\\local\\programs\\python\\python37\\lib\\site-packages (from scikit-image>=0.11.0->imgaug==0.2.5) (7.1.2)\nRequirement already satisfied: networkx>=2.0 in c:\\users\\francesco\\appdata\\local\\programs\\python\\python37\\lib\\site-packages (from scikit-image>=0.11.0->imgaug==0.2.5) (2.3)\nCollecting tifffile>=2019.7.26\n  Downloading tifffile-2020.7.17-py3-none-any.whl (144 kB)\nCollecting imageio>=2.3.0\n  Downloading imageio-2.9.0-py3-none-any.whl (3.3 MB)\nRequirement already satisfied: cycler>=0.10 in c:\\users\\francesco\\appdata\\local\\programs\\python\\python37\\lib\\site-packages (from matplotlib!=3.0.0,>=2.0.0->scikit-image>=0.11.0->imgaug==0.2.5) (0.10.0)\nRequirement already satisfied: kiwisolver>=1.0.1 in c:\\users\\francesco\\appdata\\local\\programs\\python\\python37\\lib\\site-packages (from matplotlib!=3.0.0,>=2.0.0->scikit-image>=0.11.0->imgaug==0.2.5) (1.2.0)\nRequirement already satisfied: python-dateutil>=2.1 in c:\\users\\francesco\\appdata\\local\\programs\\python\\python37\\lib\\site-packages (from matplotlib!=3.0.0,>=2.0.0->scikit-image>=0.11.0->imgaug==0.2.5) (2.8.1)\nRequirement already satisfied: pyparsing!=2.0.4,!=2.1.2,!=2.1.6,>=2.0.1 in c:\\users\\francesco\\appdata\\local\\programs\\python\\python37\\lib\\site-packages (from matplotlib!=3.0.0,>=2.0.0->scikit-image>=0.11.0->imgaug==0.2.5) (2.4.7)\nRequirement already satisfied: decorator>=4.3.0 in c:\\users\\francesco\\appdata\\local\\programs\\python\\python37\\lib\\site-packages (from networkx>=2.0->scikit-image>=0.11.0->imgaug==0.2.5) (4.4.2)\nBuilding wheels for collected packages: imgaug\n  Building wheel for imgaug (setup.py): started\n  Building wheel for imgaug (setup.py): finished with status 'done'\n  Created wheel for imgaug: filename=imgaug-0.2.5-py3-none-any.whl size=561443 sha256=a7eead2342f64ac883c10591ef519e55b4ff19bf899c3a84e455453e357368c4\n  Stored in directory: c:\\users\\francesco\\appdata\\local\\pip\\cache\\wheels\\60\\dd\\38\\d1dc2cad2b6a66dc0249261004990bccb0f27985c74ba26e49\nSuccessfully built imgaug\nInstalling collected packages: PyWavelets, tifffile, imageio, scikit-image, imgaug\nSuccessfully installed PyWavelets-1.1.1 imageio-2.9.0 imgaug-0.2.5 scikit-image-0.17.2 tifffile-2020.7.17\nRequirement already satisfied: python-igraph in c:\\users\\francesco\\appdata\\local\\programs\\python\\python37\\lib\\site-packages (0.8.2)\nRequirement already satisfied: texttable>=1.6.2 in c:\\users\\francesco\\appdata\\local\\programs\\python\\python37\\lib\\site-packages (from python-igraph) (1.6.2)\nCollecting ndlib\n  Downloading ndlib-5.0.2-py3-none-any.whl (79 kB)\nRequirement already satisfied: scipy in c:\\users\\francesco\\appdata\\local\\programs\\python\\python37\\lib\\site-packages (from ndlib) (1.4.1)\nCollecting netdispatch\n  Downloading netdispatch-0.0.5-py3-none-any.whl (2.4 kB)\nCollecting bokeh\n  Downloading bokeh-2.1.1.tar.gz (19.3 MB)\nRequirement already satisfied: future in c:\\users\\francesco\\appdata\\local\\programs\\python\\python37\\lib\\site-packages (from ndlib) (0.18.2)\nRequirement already satisfied: python-igraph in c:\\users\\francesco\\appdata\\local\\programs\\python\\python37\\lib\\site-packages (from ndlib) (0.8.2)\nCollecting dynetx\n  Downloading dynetx-0.2.3-py3-none-any.whl (33 kB)\nRequirement already satisfied: numpy in c:\\users\\francesco\\appdata\\local\\programs\\python\\python37\\lib\\site-packages (from ndlib) (1.18.5)\nRequirement already satisfied: networkx in c:\\users\\francesco\\appdata\\local\\programs\\python\\python37\\lib\\site-packages (from ndlib) (2.3)\nRequirement already satisfied: PyYAML>=3.10 in c:\\users\\francesco\\appdata\\local\\programs\\python\\python37\\lib\\site-packages (from bokeh->ndlib) (5.3.1)\nRequirement already satisfied: python-dateutil>=2.1 in c:\\users\\francesco\\appdata\\local\\programs\\python\\python37\\lib\\site-packages (from bokeh->ndlib) (2.8.1)\nRequirement already satisfied: Jinja2>=2.7 in c:\\users\\francesco\\appdata\\roaming\\python\\python37\\site-packages (from bokeh->ndlib) (2.11.2)\nRequirement already satisfied: pillow>=4.0 in c:\\users\\francesco\\appdata\\local\\programs\\python\\python37\\lib\\site-packages (from bokeh->ndlib) (7.1.2)\nRequirement already satisfied: packaging>=16.8 in c:\\users\\francesco\\appdata\\local\\programs\\python\\python37\\lib\\site-packages (from bokeh->ndlib) (20.4)\nRequirement already satisfied: tornado>=5.1 in c:\\users\\francesco\\appdata\\roaming\\python\\python37\\site-packages (from bokeh->ndlib) (6.0.4)\nCollecting typing_extensions>=3.7.4\n  Downloading typing_extensions-3.7.4.2-py3-none-any.whl (22 kB)\nRequirement already satisfied: texttable>=1.6.2 in c:\\users\\francesco\\appdata\\local\\programs\\python\\python37\\lib\\site-packages (from python-igraph->ndlib) (1.6.2)\nRequirement already satisfied: decorator>=4.3.0 in c:\\users\\francesco\\appdata\\local\\programs\\python\\python37\\lib\\site-packages (from networkx->ndlib) (4.4.2)\nRequirement already satisfied: six>=1.5 in c:\\users\\francesco\\appdata\\local\\programs\\python\\python37\\lib\\site-packages (from python-dateutil>=2.1->bokeh->ndlib) (1.15.0)\nRequirement already satisfied: MarkupSafe>=0.23 in c:\\users\\francesco\\appdata\\roaming\\python\\python37\\site-packages (from Jinja2>=2.7->bokeh->ndlib) (1.1.1)\nRequirement already satisfied: pyparsing>=2.0.2 in c:\\users\\francesco\\appdata\\local\\programs\\python\\python37\\lib\\site-packages (from packaging>=16.8->bokeh->ndlib) (2.4.7)\nBuilding wheels for collected packages: bokeh\n  Building wheel for bokeh (setup.py): started\n  Building wheel for bokeh (setup.py): still running...\n  Building wheel for bokeh (setup.py): finished with status 'done'\n  Created wheel for bokeh: filename=bokeh-2.1.1-py3-none-any.whl size=9257201 sha256=3e073b07dbc08fc6e5aa68ae766da7d2d4b68dd8a3d906a3a1fe9f84bebbd80c\n  Stored in directory: c:\\users\\francesco\\appdata\\local\\pip\\cache\\wheels\\f7\\55\\ff\\f3d7554e69382d31cf7ad857cf518af9b923134fca7d925187\nSuccessfully built bokeh\nInstalling collected packages: netdispatch, typing-extensions, bokeh, dynetx, ndlib\nSuccessfully installed bokeh-2.1.1 dynetx-0.2.3 ndlib-5.0.2 netdispatch-0.0.5 typing-extensions-3.7.4.2\n"
    }
   ],
   "source": [
    "!pip install linkpred\n",
    "!pip install networkx\n",
    "!pip install folium==0.2.1\n",
    "!pip install cdlib\n",
    "!pip install leidenalg\n",
    "!pip install imgaug==0.2.5\n",
    "!pip install python-igraph\n",
    "!pip install ndlib"
   ]
  },
  {
   "cell_type": "code",
   "execution_count": 29,
   "metadata": {},
   "outputs": [],
   "source": [
    "import networkx as nx\n",
    "import ndlib.models.epidemics as ep\n",
    "import ndlib.models.ModelConfig as mc\n",
    "import ndlib.models.opinions as op\n",
    "import pickle\n",
    "import igraph\n",
    "from cdlib.utils import convert_graph_formats\n",
    "\n",
    "# Results\n",
    "from bokeh.io import output_notebook, show\n",
    "from ndlib.viz.bokeh.DiffusionTrend import DiffusionTrend"
   ]
  },
  {
   "cell_type": "code",
   "execution_count": 19,
   "metadata": {},
   "outputs": [],
   "source": [
    "def load_obj(name):\n",
    "    with open('D:\\\\Drive\\\\NetworkScience\\\\AcademicGraph\\\\data-collection-2020_sabiu\\\\data\\\\obj\\\\' + name + '.pkl', 'rb') as f:\n",
    "        return pickle.load(f)\n",
    "\n",
    "def save_obj(obj, name):\n",
    "    with open('D:\\\\Drive\\\\NetworkScience\\\\AcademicGraph\\\\data-collection-2020_sabiu\\\\data\\\\obj\\\\'+ name + '.pkl', 'wb') as f:\n",
    "        pickle.dump(obj, f, pickle.HIGHEST_PROTOCOL)\n",
    "        \n",
    "subG = load_obj(\"biggestSubG\")"
   ]
  },
  {
   "cell_type": "markdown",
   "metadata": {},
   "source": [
    "Graph conversion to networkx"
   ]
  },
  {
   "cell_type": "code",
   "execution_count": 27,
   "metadata": {},
   "outputs": [],
   "source": [
    "nxG = convert_graph_formats(subG, nx.Graph, directed=None)"
   ]
  },
  {
   "cell_type": "markdown",
   "metadata": {},
   "source": [
    "Graphs"
   ]
  },
  {
   "cell_type": "code",
   "execution_count": 41,
   "metadata": {},
   "outputs": [],
   "source": [
    "graphs = [nxG]"
   ]
  },
  {
   "cell_type": "markdown",
   "metadata": {},
   "source": [
    "Models"
   ]
  },
  {
   "cell_type": "code",
   "execution_count": 52,
   "metadata": {},
   "outputs": [],
   "source": [
    "models = [op.VoterModel(graph), op.QVoterModel(graph), op.MajorityRuleModel(graph), op.SznajdModel(graph)]\n"
   ]
  },
  {
   "cell_type": "markdown",
   "metadata": {},
   "source": [
    "Models configurations"
   ]
  },
  {
   "cell_type": "code",
   "execution_count": 53,
   "metadata": {},
   "outputs": [],
   "source": [
    "# Config 1\n",
    "config1 = mc.Configuration()\n",
    "config1.add_model_parameter('fraction_infected', 0.1)\n",
    "\n",
    "# Config 2\n",
    "config2 = mc.Configuration()\n",
    "config2.add_model_parameter('fraction_infected', 0.5)\n",
    "\n",
    "# Config 3\n",
    "config3 = mc.Configuration()\n",
    "config3.add_model_parameter('fraction_infected', 0.7)\n",
    "\n",
    "configs = [config1, config2, config3]"
   ]
  },
  {
   "cell_type": "markdown",
   "metadata": {},
   "source": [
    "Models initial simulation status"
   ]
  },
  {
   "cell_type": "code",
   "execution_count": 91,
   "metadata": {},
   "outputs": [],
   "source": [
    "results = []"
   ]
  },
  {
   "cell_type": "markdown",
   "metadata": {},
   "source": [
    "Voter"
   ]
  },
  {
   "cell_type": "code",
   "execution_count": 92,
   "metadata": {},
   "outputs": [],
   "source": [
    "models = []"
   ]
  },
  {
   "cell_type": "code",
   "execution_count": 93,
   "metadata": {
    "tags": []
   },
   "outputs": [
    {
     "output_type": "stream",
     "name": "stderr",
     "text": "100%|██████████| 1500/1500 [00:20<00:00, 74.54it/s]\n100%|██████████| 1500/1500 [00:19<00:00, 78.01it/s]\n100%|██████████| 1500/1500 [00:21<00:00, 70.32it/s]\n"
    }
   ],
   "source": [
    "##### Model 1\n",
    "model = op.VoterModel(nxG)\n",
    "config = mc.Configuration()\n",
    "config.add_model_parameter('fraction_infected', 0.3)\n",
    "\n",
    "model.set_initial_status(config)\n",
    "\n",
    "# Simulation execution\n",
    "iterations = model.iteration_bunch(1500)\n",
    "trends = model.build_trends(iterations)\n",
    "\n",
    "results.append([iterations, trends])\n",
    "models.append(model)\n",
    "\n",
    "##### Model 2\n",
    "model = op.VoterModel(nxG)\n",
    "config = mc.Configuration()\n",
    "config.add_model_parameter('fraction_infected', 0.4)\n",
    "\n",
    "model.set_initial_status(config)\n",
    "\n",
    "# Simulation execution\n",
    "iterations = model.iteration_bunch(1500)\n",
    "trends = model.build_trends(iterations)\n",
    "\n",
    "results.append([iterations, trends])\n",
    "models.append(model)\n",
    "\n",
    "##### Model 3\n",
    "model = op.VoterModel(nxG)\n",
    "config = mc.Configuration()\n",
    "config.add_model_parameter('fraction_infected', 0.5)\n",
    "\n",
    "model.set_initial_status(config)\n",
    "\n",
    "# Simulation execution\n",
    "iterations = model.iteration_bunch(1500)\n",
    "trends = model.build_trends(iterations)\n",
    "\n",
    "results.append([iterations, trends])\n",
    "models.append(model)"
   ]
  },
  {
   "cell_type": "markdown",
   "metadata": {},
   "source": [
    "QVoter"
   ]
  },
  {
   "cell_type": "code",
   "execution_count": 94,
   "metadata": {
    "tags": []
   },
   "outputs": [
    {
     "output_type": "stream",
     "name": "stderr",
     "text": "100%|██████████| 1500/1500 [00:19<00:00, 76.09it/s]\n100%|██████████| 1500/1500 [00:17<00:00, 88.18it/s]\n100%|██████████| 1500/1500 [00:16<00:00, 88.80it/s]\n"
    }
   ],
   "source": [
    "##### Model 1\n",
    "model = op.QVoterModel(nxG)\n",
    "config = mc.Configuration()\n",
    "config.add_model_parameter(\"q\", 5)\n",
    "config.add_model_parameter('fraction_infected', 0.3)\n",
    "\n",
    "model.set_initial_status(config)\n",
    "\n",
    "# Simulation execution\n",
    "iterations = model.iteration_bunch(1500)\n",
    "trends = model.build_trends(iterations)\n",
    "\n",
    "results.append([iterations, trends])\n",
    "models.append(model)\n",
    "\n",
    "##### Model 2\n",
    "model = op.QVoterModel(nxG)\n",
    "config = mc.Configuration()\n",
    "config.add_model_parameter(\"q\", 5)\n",
    "config.add_model_parameter('fraction_infected', 0.4)\n",
    "\n",
    "model.set_initial_status(config)\n",
    "\n",
    "# Simulation execution\n",
    "iterations = model.iteration_bunch(1500)\n",
    "trends = model.build_trends(iterations)\n",
    "\n",
    "results.append([iterations, trends])\n",
    "models.append(model)\n",
    "\n",
    "##### Model 3\n",
    "model = op.QVoterModel(nxG)\n",
    "config = mc.Configuration()\n",
    "config.add_model_parameter(\"q\", 5)\n",
    "config.add_model_parameter('fraction_infected', 0.5)\n",
    "\n",
    "model.set_initial_status(config)\n",
    "\n",
    "# Simulation execution\n",
    "iterations = model.iteration_bunch(1500)\n",
    "trends = model.build_trends(iterations)\n",
    "\n",
    "results.append([iterations, trends])\n",
    "models.append(model)"
   ]
  },
  {
   "cell_type": "markdown",
   "metadata": {},
   "source": [
    "Majority rule"
   ]
  },
  {
   "cell_type": "code",
   "execution_count": 95,
   "metadata": {
    "tags": []
   },
   "outputs": [
    {
     "output_type": "stream",
     "name": "stderr",
     "text": "100%|██████████| 1500/1500 [00:19<00:00, 78.06it/s]\n100%|██████████| 1500/1500 [00:19<00:00, 76.64it/s]\n100%|██████████| 1500/1500 [00:20<00:00, 72.45it/s]\n"
    }
   ],
   "source": [
    "##### Model 1\n",
    "model = op.MajorityRuleModel(nxG)\n",
    "config = mc.Configuration()\n",
    "config.add_model_parameter(\"q\", 5)\n",
    "config.add_model_parameter('fraction_infected', 0.3)\n",
    "\n",
    "model.set_initial_status(config)\n",
    "\n",
    "# Simulation execution\n",
    "iterations = model.iteration_bunch(1500)\n",
    "trends = model.build_trends(iterations)\n",
    "\n",
    "results.append([iterations, trends])\n",
    "models.append(model)\n",
    "\n",
    "##### Model 2\n",
    "model = op.MajorityRuleModel(nxG)\n",
    "config = mc.Configuration()\n",
    "config.add_model_parameter(\"q\", 5)\n",
    "config.add_model_parameter('fraction_infected', 0.4)\n",
    "\n",
    "model.set_initial_status(config)\n",
    "\n",
    "# Simulation execution\n",
    "iterations = model.iteration_bunch(1500)\n",
    "trends = model.build_trends(iterations)\n",
    "\n",
    "results.append([iterations, trends])\n",
    "models.append(model)\n",
    "\n",
    "##### Model 3\n",
    "model = op.MajorityRuleModel(nxG)\n",
    "config = mc.Configuration()\n",
    "config.add_model_parameter(\"q\", 5)\n",
    "config.add_model_parameter('fraction_infected', 0.5)\n",
    "\n",
    "model.set_initial_status(config)\n",
    "\n",
    "# Simulation execution\n",
    "iterations = model.iteration_bunch(1500)\n",
    "trends = model.build_trends(iterations)\n",
    "\n",
    "results.append([iterations, trends])\n",
    "models.append(model)\n"
   ]
  },
  {
   "cell_type": "markdown",
   "metadata": {},
   "source": [
    "Sznaj model"
   ]
  },
  {
   "cell_type": "code",
   "execution_count": 96,
   "metadata": {
    "tags": []
   },
   "outputs": [
    {
     "output_type": "stream",
     "name": "stderr",
     "text": "100%|██████████| 1500/1500 [00:17<00:00, 83.80it/s]\n100%|██████████| 1500/1500 [00:17<00:00, 84.86it/s]\n100%|██████████| 1500/1500 [00:18<00:00, 81.06it/s]\n"
    }
   ],
   "source": [
    "##### Model 1\n",
    "model = op.SznajdModel(nxG)\n",
    "config = mc.Configuration()\n",
    "config.add_model_parameter('fraction_infected', 0.3)\n",
    "\n",
    "model.set_initial_status(config)\n",
    "\n",
    "# Simulation execution\n",
    "iterations = model.iteration_bunch(1500)\n",
    "trends = model.build_trends(iterations)\n",
    "\n",
    "results.append([iterations, trends])\n",
    "models.append(model)\n",
    "\n",
    "##### Model 2\n",
    "model = op.SznajdModel(nxG)\n",
    "config = mc.Configuration()\n",
    "config.add_model_parameter('fraction_infected', 0.4)\n",
    "\n",
    "model.set_initial_status(config)\n",
    "\n",
    "# Simulation execution\n",
    "iterations = model.iteration_bunch(1500)\n",
    "trends = model.build_trends(iterations)\n",
    "\n",
    "results.append([iterations, trends])\n",
    "models.append(model)\n",
    "\n",
    "##### Model 3\n",
    "model = op.SznajdModel(nxG)\n",
    "config = mc.Configuration()\n",
    "config.add_model_parameter('fraction_infected', 0.5)\n",
    "\n",
    "model.set_initial_status(config)\n",
    "\n",
    "# Simulation execution\n",
    "iterations = model.iteration_bunch(1500)\n",
    "trends = model.build_trends(iterations)\n",
    "\n",
    "results.append([iterations, trends])\n",
    "models.append(model)"
   ]
  },
  {
   "cell_type": "markdown",
   "metadata": {},
   "source": [
    "Deffuant (i.e. Algorithmic Bias with gamma=0)"
   ]
  },
  {
   "cell_type": "code",
   "execution_count": 100,
   "metadata": {
    "tags": []
   },
   "outputs": [
    {
     "output_type": "stream",
     "name": "stderr",
     "text": "100%|██████████| 300/300 [3:07:32<00:00, 37.51s/it]\n100%|██████████| 300/300 [3:05:33<00:00, 37.11s/it]\n"
    }
   ],
   "source": [
    "##### Model 2\n",
    "model = op.AlgorithmicBiasModel(nxG)\n",
    "config = mc.Configuration()\n",
    "config.add_model_parameter('fraction_infected', 0.15)\n",
    "config.add_model_parameter(\"epsilon\", 0.30)\n",
    "config.add_model_parameter(\"gamma\", 0)\n",
    "\n",
    "model.set_initial_status(config)\n",
    "\n",
    "# Simulation execution\n",
    "iterations = model.iteration_bunch(300)\n",
    "trends = model.build_trends(iterations)\n",
    "\n",
    "results.append([iterations, trends])\n",
    "models.append(model)\n",
    "\n",
    "##### Model 3\n",
    "model = op.AlgorithmicBiasModel(nxG)\n",
    "config = mc.Configuration()\n",
    "config.add_model_parameter('fraction_infected', 0.25)\n",
    "config.add_model_parameter(\"epsilon\", 0.40)\n",
    "config.add_model_parameter(\"gamma\", 0)\n",
    "\n",
    "model.set_initial_status(config)\n",
    "\n",
    "# Simulation execution\n",
    "iterations = model.iteration_bunch(300)\n",
    "trends = model.build_trends(iterations)\n",
    "\n",
    "results.append([iterations, trends])\n",
    "models.append(model)"
   ]
  },
  {
   "cell_type": "markdown",
   "metadata": {},
   "source": [
    "Results"
   ]
  },
  {
   "cell_type": "code",
   "execution_count": 101,
   "metadata": {
    "tags": []
   },
   "outputs": [
    {
     "output_type": "stream",
     "name": "stderr",
     "text": "BokehDeprecationWarning: 'legend' keyword is deprecated, use explicit 'legend_label', 'legend_field', or 'legend_group' keywords instead\nBokehDeprecationWarning: 'legend' keyword is deprecated, use explicit 'legend_label', 'legend_field', or 'legend_group' keywords instead\nBokehDeprecationWarning: 'legend' keyword is deprecated, use explicit 'legend_label', 'legend_field', or 'legend_group' keywords instead\nBokehDeprecationWarning: 'legend' keyword is deprecated, use explicit 'legend_label', 'legend_field', or 'legend_group' keywords instead\nBokehDeprecationWarning: 'legend' keyword is deprecated, use explicit 'legend_label', 'legend_field', or 'legend_group' keywords instead\nBokehDeprecationWarning: 'legend' keyword is deprecated, use explicit 'legend_label', 'legend_field', or 'legend_group' keywords instead\nBokehDeprecationWarning: 'legend' keyword is deprecated, use explicit 'legend_label', 'legend_field', or 'legend_group' keywords instead\nBokehDeprecationWarning: 'legend' keyword is deprecated, use explicit 'legend_label', 'legend_field', or 'legend_group' keywords instead\nBokehDeprecationWarning: 'legend' keyword is deprecated, use explicit 'legend_label', 'legend_field', or 'legend_group' keywords instead\nBokehDeprecationWarning: 'legend' keyword is deprecated, use explicit 'legend_label', 'legend_field', or 'legend_group' keywords instead\nBokehDeprecationWarning: 'legend' keyword is deprecated, use explicit 'legend_label', 'legend_field', or 'legend_group' keywords instead\nBokehDeprecationWarning: 'legend' keyword is deprecated, use explicit 'legend_label', 'legend_field', or 'legend_group' keywords instead\nBokehDeprecationWarning: 'legend' keyword is deprecated, use explicit 'legend_label', 'legend_field', or 'legend_group' keywords instead\nBokehDeprecationWarning: 'legend' keyword is deprecated, use explicit 'legend_label', 'legend_field', or 'legend_group' keywords instead\nBokehDeprecationWarning: 'legend' keyword is deprecated, use explicit 'legend_label', 'legend_field', or 'legend_group' keywords instead\nBokehDeprecationWarning: 'legend' keyword is deprecated, use explicit 'legend_label', 'legend_field', or 'legend_group' keywords instead\nBokehDeprecationWarning: 'legend' keyword is deprecated, use explicit 'legend_label', 'legend_field', or 'legend_group' keywords instead\nBokehDeprecationWarning: 'legend' keyword is deprecated, use explicit 'legend_label', 'legend_field', or 'legend_group' keywords instead\nBokehDeprecationWarning: 'legend' keyword is deprecated, use explicit 'legend_label', 'legend_field', or 'legend_group' keywords instead\nBokehDeprecationWarning: 'legend' keyword is deprecated, use explicit 'legend_label', 'legend_field', or 'legend_group' keywords instead\nBokehDeprecationWarning: 'legend' keyword is deprecated, use explicit 'legend_label', 'legend_field', or 'legend_group' keywords instead\nBokehDeprecationWarning: 'legend' keyword is deprecated, use explicit 'legend_label', 'legend_field', or 'legend_group' keywords instead\nBokehDeprecationWarning: 'legend' keyword is deprecated, use explicit 'legend_label', 'legend_field', or 'legend_group' keywords instead\nBokehDeprecationWarning: 'legend' keyword is deprecated, use explicit 'legend_label', 'legend_field', or 'legend_group' keywords instead\nBokehDeprecationWarning: 'legend' keyword is deprecated, use explicit 'legend_label', 'legend_field', or 'legend_group' keywords instead\nBokehDeprecationWarning: 'legend' keyword is deprecated, use explicit 'legend_label', 'legend_field', or 'legend_group' keywords instead\nBokehDeprecationWarning: 'legend' keyword is deprecated, use explicit 'legend_label', 'legend_field', or 'legend_group' keywords instead\nBokehDeprecationWarning: 'legend' keyword is deprecated, use explicit 'legend_label', 'legend_field', or 'legend_group' keywords instead\nBokehDeprecationWarning: 'legend' keyword is deprecated, use explicit 'legend_label', 'legend_field', or 'legend_group' keywords instead\nBokehDeprecationWarning: 'legend' keyword is deprecated, use explicit 'legend_label', 'legend_field', or 'legend_group' keywords instead\nBokehDeprecationWarning: 'legend' keyword is deprecated, use explicit 'legend_label', 'legend_field', or 'legend_group' keywords instead\nBokehDeprecationWarning: 'legend' keyword is deprecated, use explicit 'legend_label', 'legend_field', or 'legend_group' keywords instead\nBokehDeprecationWarning: 'legend' keyword is deprecated, use explicit 'legend_label', 'legend_field', or 'legend_group' keywords instead\nBokehDeprecationWarning: 'legend' keyword is deprecated, use explicit 'legend_label', 'legend_field', or 'legend_group' keywords instead\nBokehDeprecationWarning: 'legend' keyword is deprecated, use explicit 'legend_label', 'legend_field', or 'legend_group' keywords instead\nBokehDeprecationWarning: 'legend' keyword is deprecated, use explicit 'legend_label', 'legend_field', or 'legend_group' keywords instead\nBokehDeprecationWarning: 'legend' keyword is deprecated, use explicit 'legend_label', 'legend_field', or 'legend_group' keywords instead\nBokehDeprecationWarning: 'legend' keyword is deprecated, use explicit 'legend_label', 'legend_field', or 'legend_group' keywords instead\nBokehDeprecationWarning: 'legend' keyword is deprecated, use explicit 'legend_label', 'legend_field', or 'legend_group' keywords instead\nBokehDeprecationWarning: 'legend' keyword is deprecated, use explicit 'legend_label', 'legend_field', or 'legend_group' keywords instead\nBokehDeprecationWarning: 'legend' keyword is deprecated, use explicit 'legend_label', 'legend_field', or 'legend_group' keywords instead\nBokehDeprecationWarning: 'legend' keyword is deprecated, use explicit 'legend_label', 'legend_field', or 'legend_group' keywords instead\nBokehDeprecationWarning: 'legend' keyword is deprecated, use explicit 'legend_label', 'legend_field', or 'legend_group' keywords instead\nBokehDeprecationWarning: 'legend' keyword is deprecated, use explicit 'legend_label', 'legend_field', or 'legend_group' keywords instead\nBokehDeprecationWarning: 'legend' keyword is deprecated, use explicit 'legend_label', 'legend_field', or 'legend_group' keywords instead\nBokehDeprecationWarning: 'legend' keyword is deprecated, use explicit 'legend_label', 'legend_field', or 'legend_group' keywords instead\nBokehDeprecationWarning: 'legend' keyword is deprecated, use explicit 'legend_label', 'legend_field', or 'legend_group' keywords instead\nBokehDeprecationWarning: 'legend' keyword is deprecated, use explicit 'legend_label', 'legend_field', or 'legend_group' keywords instead\nBokehDeprecationWarning: 'legend' keyword is deprecated, use explicit 'legend_label', 'legend_field', or 'legend_group' keywords instead\nBokehDeprecationWarning: 'legend' keyword is deprecated, use explicit 'legend_label', 'legend_field', or 'legend_group' keywords instead\nBokehDeprecationWarning: 'legend' keyword is deprecated, use explicit 'legend_label', 'legend_field', or 'legend_group' keywords instead\nBokehDeprecationWarning: 'legend' keyword is deprecated, use explicit 'legend_label', 'legend_field', or 'legend_group' keywords instead\nBokehDeprecationWarning: 'legend' keyword is deprecated, use explicit 'legend_label', 'legend_field', or 'legend_group' keywords instead\nBokehDeprecationWarning: 'legend' keyword is deprecated, use explicit 'legend_label', 'legend_field', or 'legend_group' keywords instead\nBokehDeprecationWarning: 'legend' keyword is deprecated, use explicit 'legend_label', 'legend_field', or 'legend_group' keywords instead\nBokehDeprecationWarning: 'legend' keyword is deprecated, use explicit 'legend_label', 'legend_field', or 'legend_group' keywords instead\n"
    }
   ],
   "source": [
    "from ndlib.viz.bokeh.DiffusionPrevalence import DiffusionPrevalence\n",
    "\n",
    "for i, result in enumerate(results):\n",
    "    # Trend\n",
    "    viz = DiffusionTrend(models[i], result[1])\n",
    "    p = viz.plot(width=400, height=400)\n",
    "    show(p)\n",
    "\n",
    "    # Prevalence\n",
    "    viz2 = DiffusionPrevalence(models[i], result[1])\n",
    "    p2 = viz2.plot(width=400, height=400)\n",
    "    show(p2)"
   ]
  },
  {
   "cell_type": "markdown",
   "metadata": {},
   "source": [
    "Writing results"
   ]
  },
  {
   "cell_type": "code",
   "execution_count": null,
   "metadata": {},
   "outputs": [],
   "source": []
  },
  {
   "cell_type": "markdown",
   "metadata": {},
   "source": [
    "Simulating"
   ]
  },
  {
   "cell_type": "code",
   "execution_count": 38,
   "metadata": {
    "tags": []
   },
   "outputs": [
    {
     "output_type": "stream",
     "name": "stderr",
     "text": "100%|██████████| 1500/1500 [00:00<00:00, 4296.54it/s]\n"
    }
   ],
   "source": [
    "iterations = model.iteration_bunch(1500)\n",
    "trends = model.build_trends(iterations)"
   ]
  },
  {
   "cell_type": "markdown",
   "metadata": {},
   "source": [
    "Trend"
   ]
  },
  {
   "cell_type": "code",
   "execution_count": 39,
   "metadata": {
    "tags": []
   },
   "outputs": [
    {
     "output_type": "stream",
     "name": "stderr",
     "text": "BokehDeprecationWarning: 'legend' keyword is deprecated, use explicit 'legend_label', 'legend_field', or 'legend_group' keywords instead\nBokehDeprecationWarning: 'legend' keyword is deprecated, use explicit 'legend_label', 'legend_field', or 'legend_group' keywords instead\n"
    }
   ],
   "source": [
    "viz = DiffusionTrend(model, trends)\n",
    "p = viz.plot(width=400, height=400)\n",
    "show(p)"
   ]
  },
  {
   "cell_type": "markdown",
   "metadata": {},
   "source": [
    "Prevalence"
   ]
  },
  {
   "cell_type": "code",
   "execution_count": 40,
   "metadata": {
    "tags": []
   },
   "outputs": [
    {
     "output_type": "stream",
     "name": "stderr",
     "text": "BokehDeprecationWarning: 'legend' keyword is deprecated, use explicit 'legend_label', 'legend_field', or 'legend_group' keywords instead\nBokehDeprecationWarning: 'legend' keyword is deprecated, use explicit 'legend_label', 'legend_field', or 'legend_group' keywords instead\n"
    }
   ],
   "source": [
    "\n",
    "\n",
    "viz2 = DiffusionPrevalence(model, trends)\n",
    "p2 = viz2.plot(width=400, height=400)\n",
    "show(p2)"
   ]
  },
  {
   "cell_type": "code",
   "execution_count": 102,
   "metadata": {
    "tags": []
   },
   "outputs": [
    {
     "output_type": "stream",
     "name": "stdout",
     "text": "Package                  Version\n------------------------ -----------\nabsl-py                  0.9.0\nalabaster                0.7.12\nastroid                  2.4.2\nastunparse               1.6.3\natomicwrites             1.4.0\nattrs                    19.3.0\nBabel                    2.8.0\nbackcall                 0.2.0\nbeautifulsoup4           4.9.1\nbimlpa                   0.1.2\nbiopython                1.77\nbleach                   3.1.5\nbokeh                    2.1.1\nboto                     2.49.0\nboto3                    1.14.5\nbotocore                 1.17.5\nbpemb                    0.3.0\ncachetools               4.1.0\ncdlib                    0.1.8\ncertifi                  2020.4.5.2\nchardet                  3.0.4\nclick                    7.1.2\ncloudpickle              1.4.1\ncolorama                 0.4.3\ncycler                   0.10.0\nCython                   0.29.14\ndeap                     1.3.1\ndecorator                4.4.2\ndefusedxml               0.6.0\ndemon                    2.0.5\nDeprecated               1.2.10\ndocopt                   0.6.2\ndocutils                 0.15.2\ndynetx                   0.2.3\nentrypoints              0.3\neva-lcd                  0.1.0\nfilelock                 3.0.12\nflair                    0.5\nfolium                   0.2.1\nfuture                   0.18.2\ngast                     0.3.3\ngensim                   3.8.3\ngoogle-auth              1.17.2\ngoogle-auth-oauthlib     0.4.1\ngoogle-pasta             0.2.0\ngrpcio                   1.29.0\nh5py                     2.10.0\nhyperopt                 0.2.4\nidna                     2.9\nimageio                  2.9.0\nimagesize                1.2.0\nimbalanced-learn         0.7.0\nimblearn                 0.0\nimgaug                   0.2.5\nimportlib-metadata       1.6.1\nipykernel                5.3.0\nipython                  7.15.0\nipython-genutils         0.2.0\nipywidgets               7.5.1\nisort                    4.3.21\njedi                     0.17.0\nJinja2                   2.11.2\njmespath                 0.10.0\njoblib                   0.15.1\njsonschema               3.2.0\njupyter                  1.0.0\njupyter-client           6.1.3\njupyter-console          6.1.0\njupyter-core             4.6.3\nkarateclub               1.0.8\nKeras                    2.4.0\nKeras-Preprocessing      1.1.2\nkiwisolver               1.2.0\nlangdetect               1.0.8\nlazy-object-proxy        1.4.3\nleidenalg                0.8.1\nlinkpred                 0.5.1\nMarkdown                 3.2.2\nMarkupSafe               1.1.1\nmatplotlib               3.2.2\nmccabe                   0.6.1\nmistune                  0.8.4\nmock                     3.0.5\nmore-itertools           8.4.0\nmpld3                    0.3\nnbconvert                5.6.1\nnbformat                 5.0.7\nndlib                    5.0.2\nnetdispatch              0.0.5\nnetworkx                 2.3\nnf1                      0.0.3\nnltk                     3.5\nnotebook                 6.0.3\nnum2words                0.5.10\nnumpy                    1.18.5\noauthlib                 3.1.0\nomega-index-py3          0.3\nopt-einsum               3.2.1\npackaging                20.4\npandas                   1.0.4\npandocfilters            1.4.2\nparso                    0.7.0\npickleshare              0.7.5\nPillow                   7.1.2\npip                      20.1.1\npluggy                   0.13.1\npquality                 0.0.7\nprogressbar              2.5\nprometheus-client        0.8.0\nprompt-toolkit           3.0.5\nprotobuf                 3.12.2\npubmed-lookup            0.2.3\nPuLP                     1.6.10\npy                       1.8.2\npyasn1                   0.4.8\npyasn1-modules           0.2.8\npydot                    1.4.1\npydotplus                2.0.2\nPygments                 2.6.1\nPyGSP                    0.5.1\npylint                   2.5.3\npyparsing                2.4.7\npyrsistent               0.16.0\npytest                   5.4.3\npython-dateutil          2.8.1\npython-igraph            0.8.2\npython-louvain           0.13\npytz                     2020.1\nPyWavelets               1.1.1\npywin32                  228\npywinpty                 0.5.7\nPyYAML                   5.3.1\npyzmq                    19.0.1\nqtconsole                4.7.4\nQtPy                     1.9.0\nregex                    2020.6.8\nrequests                 2.24.0\nrequests-oauthlib        1.3.0\nrsa                      4.6\ns3transfer               0.3.3\nsacremoses               0.0.43\nscikit-image             0.17.2\nscikit-learn             0.23.1\nscipy                    1.4.1\nseaborn                  0.10.1\nsegtok                   1.5.10\nSend2Trash               1.5.0\nsentencepiece            0.1.91\nsetuptools               41.2.0\nsix                      1.15.0\nsklearn                  0.0\nsmart-open               2.0.0\nsmokesignal              0.7.0\nsnowballstemmer          2.0.0\nsoupsieve                2.0.1\nSphinx                   1.7.5\nsphinx-rtd-theme         0.4.3\nsphinxcontrib-websupport 1.2.3\nsqlitedict               1.6.0\ntabulate                 0.8.7\ntensorboard              2.2.2\ntensorboard-plugin-wit   1.6.0.post3\ntensorflow               2.2.0\ntensorflow-estimator     2.2.0\ntermcolor                1.1.0\nterminado                0.8.3\ntestpath                 0.4.4\ntexttable                1.6.2\nthreadpoolctl            2.1.0\ntifffile                 2020.7.17\ntokenizers               0.7.0\ntoml                     0.10.1\ntorch                    1.4.0+cu92\ntorchvision              0.5.0\ntornado                  6.0.4\ntqdm                     4.46.1\ntraitlets                4.3.3\ntransformers             2.11.0\ntyped-ast                1.4.1\ntyping-extensions        3.7.4.2\nurllib3                  1.25.9\nwcwidth                  0.2.4\nwebencodings             0.5.1\nWerkzeug                 1.0.1\nwheel                    0.34.2\nwidgetsnbextension       3.5.1\nwrapt                    1.12.1\nxmltodict                0.12.0\nzipp                     3.1.0\n"
    }
   ],
   "source": [
    "!pip list"
   ]
  },
  {
   "cell_type": "code",
   "execution_count": null,
   "metadata": {},
   "outputs": [],
   "source": []
  }
 ],
 "metadata": {
  "environment": {
   "name": "common-cpu.m50",
   "type": "gcloud",
   "uri": "gcr.io/deeplearning-platform-release/base-cpu:m50"
  },
  "kernelspec": {
   "display_name": "Python 3.7.7 64-bit",
   "language": "python",
   "name": "python_defaultSpec_1595084708882"
  },
  "language_info": {
   "codemirror_mode": {
    "name": "ipython",
    "version": 3
   },
   "file_extension": ".py",
   "mimetype": "text/x-python",
   "name": "python",
   "nbconvert_exporter": "python",
   "pygments_lexer": "ipython3",
   "version": "3.7.6"
  }
 },
 "nbformat": 4,
 "nbformat_minor": 4
}